{
 "cells": [
  {
   "cell_type": "code",
   "execution_count": 1,
   "metadata": {},
   "outputs": [],
   "source": [
    "from v3_pool import *"
   ]
  },
  {
   "cell_type": "markdown",
   "metadata": {},
   "source": [
    "## Test constructors"
   ]
  },
  {
   "cell_type": "code",
   "execution_count": 2,
   "metadata": {},
   "outputs": [
    {
     "data": {
      "text/plain": [
       "Token(name='ETH', decimals=18)"
      ]
     },
     "execution_count": 2,
     "metadata": {},
     "output_type": "execute_result"
    }
   ],
   "source": [
    "Token(\"ETH\",18)"
   ]
  },
  {
   "cell_type": "code",
   "execution_count": 3,
   "metadata": {},
   "outputs": [
    {
     "data": {
      "text/plain": [
       "GlobalState(L=0.0, rP=0.0, tick=0, fg_x=0.0, fg_y=0.0, proto_x=0.0, proto_y=0.0)"
      ]
     },
     "execution_count": 3,
     "metadata": {},
     "output_type": "execute_result"
    }
   ],
   "source": [
    "GlobalState()"
   ]
  },
  {
   "cell_type": "code",
   "execution_count": 4,
   "metadata": {},
   "outputs": [
    {
     "data": {
      "text/plain": [
       "TickState(liq_net=0.0, liq_gross=0.0, f0_x=0.0, f0_y=0.0, s0_x=0.0, s0_y=0.0, i0_x=0.0, i0_y=0.0, sl0_x=0.0, sl0_y=0.0)"
      ]
     },
     "execution_count": 4,
     "metadata": {},
     "output_type": "execute_result"
    }
   ],
   "source": [
    "TickState()"
   ]
  },
  {
   "cell_type": "code",
   "execution_count": 5,
   "metadata": {},
   "outputs": [
    {
     "data": {
      "text/plain": [
       "PositionState(liq=0.0, fr_x=0.0, fr_y=0.0)"
      ]
     },
     "execution_count": 5,
     "metadata": {},
     "output_type": "execute_result"
    }
   ],
   "source": [
    "PositionState()"
   ]
  },
  {
   "cell_type": "code",
   "execution_count": 6,
   "metadata": {},
   "outputs": [
    {
     "data": {
      "text/plain": [
       "ETH-USDC pool - tick spacing 1\n",
       "Token(name='ETH', decimals=18) Token(name='USDC', decimals=6)\n",
       "GlobalState(L=0.0, rP=63.245553203367585, tick=82944, fg_x=0.0, fg_y=0.0, proto_x=0.0, proto_y=0.0)\n",
       "real reserve X=0.0 Y=0.0\n"
      ]
     },
     "execution_count": 6,
     "metadata": {},
     "output_type": "execute_result"
    }
   ],
   "source": [
    "Pool(\"ETH\", 18, \"USDC\", 6, bootstrap_rP=4000**0.5)"
   ]
  },
  {
   "cell_type": "markdown",
   "metadata": {},
   "source": [
    "## Test static method formulas"
   ]
  },
  {
   "cell_type": "markdown",
   "metadata": {},
   "source": [
    "Problem 1:  \n",
    "A user has x = 2 ETH and wants to set up a liquidity position in an ETH/USDC pool. The current price of ETH is P =2000 USDC and target price range is from pa = 1500 to pb = 2500 USDC. How much USDC (y) do they need?"
   ]
  },
  {
   "cell_type": "code",
   "execution_count": 7,
   "metadata": {},
   "outputs": [
    {
     "data": {
      "text/plain": [
       "847.2135954999583"
      ]
     },
     "execution_count": 7,
     "metadata": {},
     "output_type": "execute_result"
    }
   ],
   "source": [
    "# 2-step: get L first\n",
    "a,P,b = 1500,2000,2500\n",
    "x = 2.0 \n",
    "# First, calculate the liquidity of the top half of the range by using\n",
    "# reserve x cover from current P to upper bound (pretend P is lower bound)\n",
    "Lx = Pool.liq_x_only(x=x,rPa=P**0.5, rPb=b**0.5)\n",
    "Lx"
   ]
  },
  {
   "cell_type": "code",
   "execution_count": 8,
   "metadata": {},
   "outputs": [
    {
     "data": {
      "text/plain": [
       "5076.102359479882"
      ]
     },
     "execution_count": 8,
     "metadata": {},
     "output_type": "execute_result"
    }
   ],
   "source": [
    "# 2-step: then get y . \n",
    "y = Pool.y_from_L_rP_rng(L=Lx,rP=P**0.5,rPa=a**0.5,rPb=b**0.5)\n",
    "y"
   ]
  },
  {
   "cell_type": "markdown",
   "metadata": {},
   "source": [
    "Problem 2:  \n",
    "A user has x=2 ETH and y=4000 USDC, and wants to use pb =3000USDC perETH as the top of the price range. What is the bottom of the range (pa) that ensures the opened position uses the full amount of their funds?"
   ]
  },
  {
   "cell_type": "code",
   "execution_count": 9,
   "metadata": {},
   "outputs": [
    {
     "data": {
      "text/plain": [
       "1333.3333333333333"
      ]
     },
     "execution_count": 9,
     "metadata": {},
     "output_type": "execute_result"
    }
   ],
   "source": [
    "# Bounds in 1-step\n",
    "x,y  = 2.0, 4000\n",
    "P = y/x\n",
    "b= 3000\n",
    "\n",
    "rPa = Pool.rPa_from_x_y_rP_rPb(x=x,y=y,rP=P**0.5,rPb=b**0.5)\n",
    "rPa**2"
   ]
  },
  {
   "cell_type": "code",
   "execution_count": 10,
   "metadata": {},
   "outputs": [
    {
     "data": {
      "text/plain": [
       "1333.3333333333337"
      ]
     },
     "execution_count": 10,
     "metadata": {},
     "output_type": "execute_result"
    }
   ],
   "source": [
    "# Bounds in 2-steps\n",
    "# compute L using the top part of range, given we know x \n",
    "Lx = Pool.liq_x_only(x,rPa=P**0.5,rPb=b**0.5)\n",
    "# then get lower bound from L, price and y\n",
    "rPa = Pool.rPa_from_L_rP_y(L=Lx,rP=P**0.5,y=y)\n",
    "rPa**2"
   ]
  },
  {
   "cell_type": "code",
   "execution_count": null,
   "metadata": {},
   "outputs": [],
   "source": []
  },
  {
   "cell_type": "markdown",
   "metadata": {},
   "source": [
    "Problem 3:  \n",
    "Using the liquidity position created in Problem 2, what are asset balances when the price changes to P = 2500 USDC per ETH?"
   ]
  },
  {
   "cell_type": "code",
   "execution_count": 11,
   "metadata": {},
   "outputs": [
    {
     "data": {
      "text/plain": [
       "(0.8493641204744684, 6572.9000439693455)"
      ]
     },
     "execution_count": 11,
     "metadata": {},
     "output_type": "execute_result"
    }
   ],
   "source": [
    "# compute L from price when position established, reserves and bounds\n",
    "L = Pool.liq_from_x_y_rP_rng(x=x,y=y,rP=P**0.5, rPa=rPa, rPb=b**0.5)\n",
    "\n",
    "x_new = Pool.x_from_L_rP_rng(L=L, rP=2500**0.5, rPa=rPa, rPb=b**0.5)\n",
    "\n",
    "y_new = Pool.y_from_L_rP_rng(L=L, rP=2500**0.5, rPa=rPa, rPb=b**0.5)\n",
    "\n",
    "x_new , y_new"
   ]
  },
  {
   "cell_type": "code",
   "execution_count": 12,
   "metadata": {},
   "outputs": [
    {
     "name": "stdout",
     "output_type": "stream",
     "text": [
      "L=487.41718030204123 dX=-1.1506358795255318 x_new=0.8493641204744682\n"
     ]
    }
   ],
   "source": [
    "# or calc change of reserves based on change of price\n",
    "dX =  Pool.dX_from_L_drP(L,rP_old=P**0.5,rP_new=2500**0.5)\n",
    "print(f\"{L=} {dX=} x_new={x + dX}\")"
   ]
  },
  {
   "cell_type": "code",
   "execution_count": 13,
   "metadata": {},
   "outputs": [
    {
     "name": "stdout",
     "output_type": "stream",
     "text": [
      "dY=2572.9000439693473 y_new=6572.900043969347\n"
     ]
    }
   ],
   "source": [
    "dY =  Pool.dY_from_L_drP(L,rP_old=P**0.5,rP_new=2500**0.5)\n",
    "print(f\"{dY=} y_new={y + dY}\")"
   ]
  },
  {
   "cell_type": "markdown",
   "metadata": {},
   "source": [
    "-------------\n",
    "-------------\n",
    "-------------\n",
    "## Test pool mechanics"
   ]
  },
  {
   "cell_type": "markdown",
   "metadata": {},
   "source": [
    "### Pool Init and tick math"
   ]
  },
  {
   "cell_type": "code",
   "execution_count": 14,
   "metadata": {},
   "outputs": [
    {
     "data": {
      "text/plain": [
       "ETH-USDC pool - tick spacing 30\n",
       "Token(name='ETH', decimals=18) Token(name='USDC', decimals=6)\n",
       "GlobalState(L=0.0, rP=63.245553203367585, tick=82920, fg_x=0.0, fg_y=0.0, proto_x=0.0, proto_y=0.0)\n",
       "real reserve X=0.0 Y=0.0\n"
      ]
     },
     "execution_count": 14,
     "metadata": {},
     "output_type": "execute_result"
    }
   ],
   "source": [
    "pool= Pool(\"ETH\", 18, \"USDC\", 6, bootstrap_rP=4000**0.5,tick_spacing=30)\n",
    "pool"
   ]
  },
  {
   "cell_type": "code",
   "execution_count": 15,
   "metadata": {},
   "outputs": [],
   "source": [
    "assert(pool.tick_to_rP(pool.global_state.tick) <= pool.global_state.rP)"
   ]
  },
  {
   "cell_type": "code",
   "execution_count": 16,
   "metadata": {},
   "outputs": [
    {
     "name": "stdout",
     "output_type": "stream",
     "text": [
      "82944 82920\n",
      "82944 82950\n"
     ]
    }
   ],
   "source": [
    "print(pool.rP_to_tick(pool.global_state.rP), pool.rP_to_possible_tick(pool.global_state.rP))\n",
    "print(pool.rP_to_tick(pool.global_state.rP), pool.rP_to_possible_tick(pool.global_state.rP, left_to_right=True))"
   ]
  },
  {
   "cell_type": "markdown",
   "metadata": {},
   "source": [
    "------------\n",
    "------------\n",
    "1. set_position()"
   ]
  },
  {
   "cell_type": "code",
   "execution_count": 17,
   "metadata": {},
   "outputs": [
    {
     "data": {
      "text/plain": [
       "ETH-USDC pool - tick spacing 100\n",
       "Token(name='ETH', decimals=18) Token(name='USDC', decimals=6)\n",
       "GlobalState(L=0.0, rP=63.245553203367585, tick=82900, fg_x=0.0, fg_y=0.0, proto_x=0.0, proto_y=0.0)\n",
       "real reserve X=0.0 Y=0.0\n"
      ]
     },
     "execution_count": 17,
     "metadata": {},
     "output_type": "execute_result"
    }
   ],
   "source": [
    "pool= Pool(\"ETH\", 18, \"USDC\", 6, bootstrap_rP=4000**0.5,tick_spacing=100)\n",
    "pool"
   ]
  },
  {
   "cell_type": "code",
   "execution_count": 18,
   "metadata": {},
   "outputs": [
    {
     "name": "stdout",
     "output_type": "stream",
     "text": [
      "GlobalState(L=300.0, rP=63.245553203367585, tick=82900, fg_x=0.0, fg_y=0.0, proto_x=0.0, proto_y=0.0)\n",
      "real reserves X=0.0 Y=0.0\n",
      "---active ticks---\n",
      "tick '80000': TickState(liq_net=300.0, liq_gross=300.0, f0_x=0.0, f0_y=0.0, s0_x=0.0, s0_y=0.0, i0_x=0.0, i0_y=0.0, sl0_x=0.0, sl0_y=0.0)\n",
      "tick '90000': TickState(liq_net=-300.0, liq_gross=300.0, f0_x=0, f0_y=0, s0_x=0.0, s0_y=0.0, i0_x=0.0, i0_y=0.0, sl0_x=0.0, sl0_y=0.0)\n",
      "---positions---\n",
      "poz '('123', 80000, 90000)': PositionState(liq=300, fr_x=0.0, fr_y=0.0)\n"
     ]
    }
   ],
   "source": [
    "\n",
    "pool._set_position(\"123\", 80000, 90000, 300)\n",
    "pool.show()"
   ]
  },
  {
   "cell_type": "code",
   "execution_count": 19,
   "metadata": {},
   "outputs": [
    {
     "name": "stdout",
     "output_type": "stream",
     "text": [
      "GlobalState(L=300.0, rP=63.245553203367585, tick=82900, fg_x=0.0, fg_y=0.0, proto_x=0.0, proto_y=0.0)\n",
      "real reserves X=0.0 Y=0.0\n",
      "---active ticks---\n",
      "tick '80000': TickState(liq_net=300.0, liq_gross=300.0, f0_x=0.0, f0_y=0.0, s0_x=0.0, s0_y=0.0, i0_x=0.0, i0_y=0.0, sl0_x=0.0, sl0_y=0.0)\n",
      "tick '90000': TickState(liq_net=-100.0, liq_gross=500.0, f0_x=0, f0_y=0, s0_x=0.0, s0_y=0.0, i0_x=0.0, i0_y=0.0, sl0_x=0.0, sl0_y=0.0)\n",
      "tick '95000': TickState(liq_net=-200.0, liq_gross=200.0, f0_x=0, f0_y=0, s0_x=0.0, s0_y=0.0, i0_x=0.0, i0_y=0.0, sl0_x=0.0, sl0_y=0.0)\n",
      "---positions---\n",
      "poz '('123', 80000, 90000)': PositionState(liq=300, fr_x=0.0, fr_y=0.0)\n",
      "poz '('888', 90000, 95000)': PositionState(liq=200, fr_x=0.0, fr_y=0.0)\n"
     ]
    }
   ],
   "source": [
    "pool._set_position(\"888\", 90000,95000 , 200)\n",
    "pool.show()"
   ]
  },
  {
   "cell_type": "code",
   "execution_count": 20,
   "metadata": {},
   "outputs": [
    {
     "name": "stdout",
     "output_type": "stream",
     "text": [
      "GlobalState(L=700.0, rP=63.245553203367585, tick=82900, fg_x=0.0, fg_y=0.0, proto_x=0.0, proto_y=0.0)\n",
      "real reserves X=0.0 Y=0.0\n",
      "---active ticks---\n",
      "tick '80000': TickState(liq_net=300.0, liq_gross=300.0, f0_x=0.0, f0_y=0.0, s0_x=0.0, s0_y=0.0, i0_x=0.0, i0_y=0.0, sl0_x=0.0, sl0_y=0.0)\n",
      "tick '90000': TickState(liq_net=-100.0, liq_gross=500.0, f0_x=0, f0_y=0, s0_x=0.0, s0_y=0.0, i0_x=0.0, i0_y=0.0, sl0_x=0.0, sl0_y=0.0)\n",
      "tick '95000': TickState(liq_net=-600.0, liq_gross=600.0, f0_x=0, f0_y=0, s0_x=0.0, s0_y=0.0, i0_x=0.0, i0_y=0.0, sl0_x=0.0, sl0_y=0.0)\n",
      "tick '70000': TickState(liq_net=400.0, liq_gross=400.0, f0_x=0.0, f0_y=0.0, s0_x=0.0, s0_y=0.0, i0_x=0.0, i0_y=0.0, sl0_x=0.0, sl0_y=0.0)\n",
      "---positions---\n",
      "poz '('123', 80000, 90000)': PositionState(liq=300, fr_x=0.0, fr_y=0.0)\n",
      "poz '('888', 90000, 95000)': PositionState(liq=200, fr_x=0.0, fr_y=0.0)\n",
      "poz '('888', 70000, 95000)': PositionState(liq=400, fr_x=0.0, fr_y=0.0)\n"
     ]
    }
   ],
   "source": [
    "pool._set_position(\"888\", 70000, 95000, 400)\n",
    "pool.show()"
   ]
  },
  {
   "cell_type": "code",
   "execution_count": 21,
   "metadata": {},
   "outputs": [
    {
     "name": "stdout",
     "output_type": "stream",
     "text": [
      "GlobalState(L=700.0, rP=63.245553203367585, tick=82900, fg_x=0.0, fg_y=0.0, proto_x=0.0, proto_y=0.0)\n",
      "real reserves X=0.0 Y=0.0\n",
      "---active ticks---\n",
      "tick '80000': TickState(liq_net=300.0, liq_gross=300.0, f0_x=0.0, f0_y=0.0, s0_x=0.0, s0_y=0.0, i0_x=0.0, i0_y=0.0, sl0_x=0.0, sl0_y=0.0)\n",
      "tick '90000': TickState(liq_net=-300.0, liq_gross=300.0, f0_x=0, f0_y=0, s0_x=0.0, s0_y=0.0, i0_x=0.0, i0_y=0.0, sl0_x=0.0, sl0_y=0.0)\n",
      "tick '95000': TickState(liq_net=-400.0, liq_gross=400.0, f0_x=0, f0_y=0, s0_x=0.0, s0_y=0.0, i0_x=0.0, i0_y=0.0, sl0_x=0.0, sl0_y=0.0)\n",
      "tick '70000': TickState(liq_net=400.0, liq_gross=400.0, f0_x=0.0, f0_y=0.0, s0_x=0.0, s0_y=0.0, i0_x=0.0, i0_y=0.0, sl0_x=0.0, sl0_y=0.0)\n",
      "---positions---\n",
      "poz '('123', 80000, 90000)': PositionState(liq=300, fr_x=0.0, fr_y=0.0)\n",
      "poz '('888', 70000, 95000)': PositionState(liq=400, fr_x=0.0, fr_y=0.0)\n"
     ]
    }
   ],
   "source": [
    "pool._set_position(\"888\", 90000, 95000, -200)\n",
    "pool.show()"
   ]
  },
  {
   "cell_type": "markdown",
   "metadata": {},
   "source": [
    "-----------\n",
    "-----------\n",
    "2. deposit()"
   ]
  },
  {
   "cell_type": "code",
   "execution_count": 22,
   "metadata": {},
   "outputs": [
    {
     "name": "stdout",
     "output_type": "stream",
     "text": [
      "x_dep=1.9979864402233023 y_dep=3999.217850013463 X returned 0.0020135597766977043 Y returned 0.7821499865372061\n"
     ]
    }
   ],
   "source": [
    "from v3_pool import *\n",
    "\n",
    "pool= Pool(\"ETH\", 18, \"USDC\", 6, bootstrap_rP=2000**0.5,tick_spacing=1)\n",
    "pool.deposit(\"abc\",x=2, y=4000, rPa=1333**0.5, rPb=3000**0.5)"
   ]
  },
  {
   "cell_type": "markdown",
   "metadata": {},
   "source": [
    "-----------\n",
    "-----------\n",
    "3. execute_swap_from_X(): breaking up trades"
   ]
  },
  {
   "cell_type": "code",
   "execution_count": 23,
   "metadata": {},
   "outputs": [
    {
     "name": "stdout",
     "output_type": "stream",
     "text": [
      "x_dep=1.9979864402233023 y_dep=3999.217850013463 X returned 0.0020135597766977043 Y returned 0.7821499865372061\n",
      "Gap in liquidity... trying to get in range...\n",
      "no more active ticks (liquidity) in this direction\n",
      "swapped_dX=2.4493746062665265 swapped_dY=-3999.1778578349627 pool_X=4.447361046489829 _Y=0.03999217850014247\n",
      "\n",
      "GlobalState(L=0.0, rP=36.509413246066714, tick=71954, fg_x=0.0, fg_y=0.0, proto_x=0.0, proto_y=0.0)\n",
      "real reserves X=4.447361046489829 Y=0.03999217850014247\n",
      "---active ticks---\n",
      "tick '71955': TickState(liq_net=487.0, liq_gross=487.0, f0_x=0.0, f0_y=0.0, s0_x=0.0, s0_y=0.0, i0_x=0.0, i0_y=0.0, sl0_x=0.0, sl0_y=0.0)\n",
      "tick '80067': TickState(liq_net=-487.0, liq_gross=487.0, f0_x=0, f0_y=0, s0_x=0.0, s0_y=0.0, i0_x=0.0, i0_y=0.0, sl0_x=0.0, sl0_y=0.0)\n",
      "---positions---\n",
      "poz '('abc', 71955, 80067)': PositionState(liq=487, fr_x=0.0, fr_y=0.0)\n"
     ]
    }
   ],
   "source": [
    "from v3_pool import *\n",
    "\n",
    "pool1= Pool(\"ETH\", 18, \"USDC\", 6, bootstrap_rP=2000**0.5,tick_spacing=1)\n",
    "pool1.deposit(\"abc\",x=2, y=4000, rPa=1333**0.5, rPb=3000**0.5)\n",
    "\n",
    "pool1.execute_swap_from_X(3)\n",
    "print()\n",
    "pool1.show()"
   ]
  },
  {
   "cell_type": "code",
   "execution_count": 24,
   "metadata": {},
   "outputs": [
    {
     "name": "stdout",
     "output_type": "stream",
     "text": [
      "x_dep=1.9979864402233023 y_dep=3999.217850013463 X returned 0.0020135597766977043 Y returned 0.7821499865372061\n",
      "swapped_dX=1.0 swapped_dY=-1831.7681667411352 pool_X=2.9979864402233023 pool_Y=2167.4496832723275\n",
      "swapped_dX=1.0 swapped_dY=-1547.5450858252436 pool_X=3.9979864402233023 pool_Y=619.9045974470839\n",
      "Gap in liquidity... trying to get in range...\n",
      "no more active ticks (liquidity) in this direction\n",
      "swapped_dX=0.4493746062665272 swapped_dY=-619.8646052685842 pool_X=4.44736104648983 _Y=0.039992178499687725\n",
      "\n",
      "GlobalState(L=0.0, rP=36.509413246066714, tick=71954, fg_x=0.0, fg_y=0.0, proto_x=0.0, proto_y=0.0)\n",
      "real reserves X=4.44736104648983 Y=0.039992178499687725\n",
      "---active ticks---\n",
      "tick '71955': TickState(liq_net=487.0, liq_gross=487.0, f0_x=0.0, f0_y=0.0, s0_x=0.0, s0_y=0.0, i0_x=0.0, i0_y=0.0, sl0_x=0.0, sl0_y=0.0)\n",
      "tick '80067': TickState(liq_net=-487.0, liq_gross=487.0, f0_x=0, f0_y=0, s0_x=0.0, s0_y=0.0, i0_x=0.0, i0_y=0.0, sl0_x=0.0, sl0_y=0.0)\n",
      "---positions---\n",
      "poz '('abc', 71955, 80067)': PositionState(liq=487, fr_x=0.0, fr_y=0.0)\n"
     ]
    }
   ],
   "source": [
    "pool2= Pool(\"ETH\", 18, \"USDC\", 6, bootstrap_rP=2000**0.5,tick_spacing=1)\n",
    "pool2.deposit(\"abc\",x=2, y=4000, rPa=1333**0.5, rPb=3000**0.5)\n",
    "pool2.execute_swap_from_X(1)\n",
    "pool2.execute_swap_from_X(1)\n",
    "pool2.execute_swap_from_X(1)\n",
    "print()\n",
    "pool2.show()\n",
    "assert pool2.X >= pool1.X, \"breaking up trade should be slighlty more advantageous for pool\"\n",
    "# assert pool2.Y >= pool1.Y, \"breaking down the trade should result in less Y going out\""
   ]
  },
  {
   "cell_type": "code",
   "execution_count": 25,
   "metadata": {},
   "outputs": [
    {
     "name": "stdout",
     "output_type": "stream",
     "text": [
      "Gap in liquidity... trying to get in range...\n",
      "no more active ticks (liquidity) in this direction\n",
      "swapped_dX=0.0 swapped_dY=0.0 pool_X=4.447361046489829 _Y=0.03999217850014247\n",
      "Gap in liquidity... trying to get in range...\n",
      "no more active ticks (liquidity) in this direction\n",
      "swapped_dX=0.0 swapped_dY=0.0 pool_X=4.44736104648983 _Y=0.039992178499687725\n"
     ]
    },
    {
     "data": {
      "text/plain": [
       "(0.0, 0.0)"
      ]
     },
     "execution_count": 25,
     "metadata": {},
     "output_type": "execute_result"
    }
   ],
   "source": [
    "pool1.execute_swap_from_X(0.75)\n",
    "pool2.execute_swap_from_X(0.75)"
   ]
  },
  {
   "cell_type": "markdown",
   "metadata": {},
   "source": [
    "----------\n",
    "4. execute_swap_from_X(): pool starts with no liquidity in range"
   ]
  },
  {
   "cell_type": "code",
   "execution_count": 26,
   "metadata": {},
   "outputs": [
    {
     "name": "stdout",
     "output_type": "stream",
     "text": [
      "x_dep=0.0 y_dep=598.9437669860457 X returned 4.0 Y returned 1.0562330139542837\n",
      "GlobalState(L=0.0, rP=12.24744871391589, tick=50108, fg_x=0.0, fg_y=0.0, proto_x=0.0, proto_y=0.0)\n",
      "real reserves X=0.0 Y=598.9437669860457\n",
      "---active ticks---\n",
      "tick '46054': TickState(liq_net=327.0, liq_gross=327.0, f0_x=0.0, f0_y=0.0, s0_x=0.0, s0_y=0.0, i0_x=0.0, i0_y=0.0, sl0_x=0.0, sl0_y=0.0)\n",
      "tick '49418': TickState(liq_net=-327.0, liq_gross=327.0, f0_x=0.0, f0_y=0.0, s0_x=0.0, s0_y=0.0, i0_x=0.0, i0_y=0.0, sl0_x=0.0, sl0_y=0.0)\n",
      "---positions---\n",
      "poz '('dude', 46054, 49418)': PositionState(liq=327, fr_x=0.0, fr_y=0.0)\n"
     ]
    }
   ],
   "source": [
    "from v3_pool import *\n",
    "pool3= Pool(\"SOL\", 12, \"USDC\", 6, bootstrap_rP=150**0.5,tick_spacing=1)\n",
    "pool3.deposit(\"dude\",x=4, y=600, rPa=100**0.5, rPb=140**0.5)\n",
    "pool3.show()\n",
    "assert pool3.X == 0.0, \"no X deposited as range below price\""
   ]
  },
  {
   "cell_type": "code",
   "execution_count": 27,
   "metadata": {},
   "outputs": [
    {
     "name": "stdout",
     "output_type": "stream",
     "text": [
      "Gap in liquidity... trying to get in range...\n",
      "swapped_dX=2.0 swapped_dY=-261.0792203432456 pool_X=2.0 pool_Y=337.86454664280006\n",
      "GlobalState(L=327.0, rP=11.033214725935037, tick=48020, fg_x=0.0, fg_y=0.0, proto_x=0.0, proto_y=0.0)\n",
      "real reserves X=2.0 Y=337.86454664280006\n",
      "---active ticks---\n",
      "tick '46054': TickState(liq_net=327.0, liq_gross=327.0, f0_x=0.0, f0_y=0.0, s0_x=0.0, s0_y=0.0, i0_x=0.0, i0_y=0.0, sl0_x=0.0, sl0_y=0.0)\n",
      "tick '49418': TickState(liq_net=-327.0, liq_gross=327.0, f0_x=0.0, f0_y=0.0, s0_x=0.0, s0_y=0.0, i0_x=0.0, i0_y=0.0, sl0_x=0.0, sl0_y=0.0)\n",
      "---positions---\n",
      "poz '('dude', 46054, 49418)': PositionState(liq=327, fr_x=0.0, fr_y=0.0)\n"
     ]
    }
   ],
   "source": [
    "pool3.execute_swap_from_X(2)\n",
    "pool3.show()"
   ]
  },
  {
   "cell_type": "markdown",
   "metadata": {},
   "source": [
    "----------\n",
    "5. execute_swap_from_X(): there is gap of liquidity on the way down while trying to fill whole amount"
   ]
  },
  {
   "cell_type": "code",
   "execution_count": 28,
   "metadata": {},
   "outputs": [
    {
     "name": "stdout",
     "output_type": "stream",
     "text": [
      "x_dep=3.9932161139632054 y_dep=488.81423381261783 X returned 0.006783886036794584 Y returned 111.18576618738217\n",
      "x_dep=0.0 y_dep=399.4265195744154 X returned 0.0 Y returned 0.5734804255845916\n",
      "GlobalState(L=535.0, rP=14.142135623730951, tick=52985, fg_x=0.0, fg_y=0.0, proto_x=0.0, proto_y=0.0)\n",
      "real reserves X=3.9932161139632054 Y=888.2407533870332\n",
      "---active ticks---\n",
      "tick '51650': TickState(liq_net=535.0, liq_gross=535.0, f0_x=0.0, f0_y=0.0, s0_x=0.0, s0_y=0.0, i0_x=0.0, i0_y=0.0, sl0_x=0.0, sl0_y=0.0)\n",
      "tick '55217': TickState(liq_net=-535.0, liq_gross=535.0, f0_x=0, f0_y=0, s0_x=0.0, s0_y=0.0, i0_x=0.0, i0_y=0.0, sl0_x=0.0, sl0_y=0.0)\n",
      "tick '47877': TickState(liq_net=309.0, liq_gross=309.0, f0_x=0.0, f0_y=0.0, s0_x=0.0, s0_y=0.0, i0_x=0.0, i0_y=0.0, sl0_x=0.0, sl0_y=0.0)\n",
      "tick '50108': TickState(liq_net=-309.0, liq_gross=309.0, f0_x=0.0, f0_y=0.0, s0_x=0.0, s0_y=0.0, i0_x=0.0, i0_y=0.0, sl0_x=0.0, sl0_y=0.0)\n",
      "---positions---\n",
      "poz '('dude', 51650, 55217)': PositionState(liq=535, fr_x=0.0, fr_y=0.0)\n",
      "poz '('mate', 47877, 50108)': PositionState(liq=309, fr_x=0.0, fr_y=0.0)\n"
     ]
    }
   ],
   "source": [
    "from v3_pool import *\n",
    "pool4= Pool(\"SOL\", 12, \"USDC\", 6, bootstrap_rP=200**0.5,tick_spacing=1)\n",
    "pool4.deposit(\"dude\",x=4, y=600, rPa=175**0.5, rPb=250**0.5)\n",
    "pool4.deposit(\"mate\",x=0, y=400, rPa=120**0.5, rPb=150**0.5)\n",
    "# gap of liquidity between 175 and 150 \n",
    "pool4.show()\n"
   ]
  },
  {
   "cell_type": "code",
   "execution_count": 29,
   "metadata": {},
   "outputs": [
    {
     "name": "stdout",
     "output_type": "stream",
     "text": [
      "Gap in liquidity... trying to get in range...\n",
      "Gap in liquidity... trying to get in range...\n",
      "no more active ticks (liquidity) in this direction\n",
      "swapped_dX=5.590203298887696 swapped_dY=-888.2318709794994 pool_X=9.583419412850901 _Y=0.008882407533860714\n",
      "GlobalState(L=0.0, rP=10.954280744946413, tick=47876, fg_x=0.0, fg_y=0.0, proto_x=0.0, proto_y=0.0)\n",
      "real reserves X=9.583419412850901 Y=0.008882407533860714\n",
      "---active ticks---\n",
      "tick '51650': TickState(liq_net=535.0, liq_gross=535.0, f0_x=0.0, f0_y=0.0, s0_x=0.0, s0_y=0.0, i0_x=0.0, i0_y=0.0, sl0_x=0.0, sl0_y=0.0)\n",
      "tick '55217': TickState(liq_net=-535.0, liq_gross=535.0, f0_x=0, f0_y=0, s0_x=0.0, s0_y=0.0, i0_x=0.0, i0_y=0.0, sl0_x=0.0, sl0_y=0.0)\n",
      "tick '47877': TickState(liq_net=309.0, liq_gross=309.0, f0_x=0.0, f0_y=0.0, s0_x=0.0, s0_y=0.0, i0_x=0.0, i0_y=0.0, sl0_x=0.0, sl0_y=0.0)\n",
      "tick '50108': TickState(liq_net=-309.0, liq_gross=309.0, f0_x=0.0, f0_y=0.0, s0_x=0.0, s0_y=0.0, i0_x=0.0, i0_y=0.0, sl0_x=0.0, sl0_y=0.0)\n",
      "---positions---\n",
      "poz '('dude', 51650, 55217)': PositionState(liq=535, fr_x=0.0, fr_y=0.0)\n",
      "poz '('mate', 47877, 50108)': PositionState(liq=309, fr_x=0.0, fr_y=0.0)\n"
     ]
    }
   ],
   "source": [
    "pool4.execute_swap_from_X(7)\n",
    "pool4.show()"
   ]
  },
  {
   "cell_type": "markdown",
   "metadata": {},
   "source": [
    "-----------\n",
    "-----------\n",
    "6. execute_swap_from_Y(): breaking up trades"
   ]
  },
  {
   "cell_type": "code",
   "execution_count": 30,
   "metadata": {},
   "outputs": [
    {
     "name": "stdout",
     "output_type": "stream",
     "text": [
      "x_dep=1.9979864402233023 y_dep=3999.217850013463 X returned 0.0020135597766977043 Y returned 0.7821499865372061\n",
      "GlobalState(L=487.0, rP=44.721359549995796, tick=76012, fg_x=0.0, fg_y=0.0, proto_x=0.0, proto_y=0.0)\n",
      "real reserves X=1.9979864402233023 Y=3999.217850013463\n",
      "---active ticks---\n",
      "tick '71955': TickState(liq_net=487.0, liq_gross=487.0, f0_x=0.0, f0_y=0.0, s0_x=0.0, s0_y=0.0, i0_x=0.0, i0_y=0.0, sl0_x=0.0, sl0_y=0.0)\n",
      "tick '80067': TickState(liq_net=-487.0, liq_gross=487.0, f0_x=0, f0_y=0, s0_x=0.0, s0_y=0.0, i0_x=0.0, i0_y=0.0, sl0_x=0.0, sl0_y=0.0)\n",
      "---positions---\n",
      "poz '('abc', 71955, 80067)': PositionState(liq=487, fr_x=0.0, fr_y=0.0)\n",
      "\n",
      "Gap in liquidity... trying to get in range...\n",
      "no more active ticks (liquidity) in this direction\n",
      "swapped_dX=-1.9979664603589014 swapped_dY=4893.881200276067 pool_X=1.9979864400943015e-05 _Y=8893.09905028953\n",
      "\n",
      "GlobalState(L=0.0, rP=54.77039692222591, tick=80067, fg_x=0.0, fg_y=0.0, proto_x=0.0, proto_y=0.0)\n",
      "real reserves X=1.9979864400943015e-05 Y=8893.09905028953\n",
      "---active ticks---\n",
      "tick '71955': TickState(liq_net=487.0, liq_gross=487.0, f0_x=0.0, f0_y=0.0, s0_x=0.0, s0_y=0.0, i0_x=0.0, i0_y=0.0, sl0_x=0.0, sl0_y=0.0)\n",
      "tick '80067': TickState(liq_net=-487.0, liq_gross=487.0, f0_x=0.0, f0_y=0.0, s0_x=0.0, s0_y=0.0, i0_x=0.0, i0_y=0.0, sl0_x=0.0, sl0_y=0.0)\n",
      "---positions---\n",
      "poz '('abc', 71955, 80067)': PositionState(liq=487, fr_x=0.0, fr_y=0.0)\n"
     ]
    }
   ],
   "source": [
    "from v3_pool import *\n",
    "\n",
    "pool5= Pool(\"ETH\", 18, \"USDC\", 6, bootstrap_rP=2000**0.5,tick_spacing=1)\n",
    "pool5.deposit(\"abc\",x=2, y=4000, rPa=1333**0.5, rPb=3000**0.5)\n",
    "pool5.show()\n",
    "print()\n",
    "pool5.execute_swap_from_Y(6000)\n",
    "print()\n",
    "pool5.show()"
   ]
  },
  {
   "cell_type": "code",
   "execution_count": 31,
   "metadata": {},
   "outputs": [
    {
     "name": "stdout",
     "output_type": "stream",
     "text": [
      "x_dep=1.9979864402233023 y_dep=3999.217850013463 X returned 0.0020135597766977043 Y returned 0.7821499865372061\n",
      "swapped_dX=-0.9158840833705683 swapped_dY=2000.0 pool_X=1.082102356852734 pool_Y=5999.217850013463\n",
      "swapped_dX=-0.7737725429126204 swapped_dY=2000.0 pool_X=0.3083298139401135 pool_Y=7999.217850013463\n",
      "Gap in liquidity... trying to get in range...\n",
      "no more active ticks (liquidity) in this direction\n",
      "swapped_dX=-0.3083098340757125 swapped_dY=893.8812002760709 pool_X=1.9979864400998526e-05 _Y=8893.099050289535\n",
      "\n",
      "GlobalState(L=0.0, rP=54.77039692222591, tick=80067, fg_x=0.0, fg_y=0.0, proto_x=0.0, proto_y=0.0)\n",
      "real reserves X=1.9979864400998526e-05 Y=8893.099050289535\n",
      "---active ticks---\n",
      "tick '71955': TickState(liq_net=487.0, liq_gross=487.0, f0_x=0.0, f0_y=0.0, s0_x=0.0, s0_y=0.0, i0_x=0.0, i0_y=0.0, sl0_x=0.0, sl0_y=0.0)\n",
      "tick '80067': TickState(liq_net=-487.0, liq_gross=487.0, f0_x=0.0, f0_y=0.0, s0_x=0.0, s0_y=0.0, i0_x=0.0, i0_y=0.0, sl0_x=0.0, sl0_y=0.0)\n",
      "---positions---\n",
      "poz '('abc', 71955, 80067)': PositionState(liq=487, fr_x=0.0, fr_y=0.0)\n"
     ]
    }
   ],
   "source": [
    "pool6= Pool(\"ETH\", 18, \"USDC\", 6, bootstrap_rP=2000**0.5,tick_spacing=1)\n",
    "pool6.deposit(\"abc\",x=2, y=4000, rPa=1333**0.5, rPb=3000**0.5)\n",
    "pool6.execute_swap_from_Y(2000)\n",
    "pool6.execute_swap_from_Y(2000)\n",
    "pool6.execute_swap_from_Y(2000)\n",
    "print()\n",
    "pool6.show()\n",
    "assert pool6.Y >= pool5.Y, \"breaking up trade should be slighlty more advantageous for pool\"\n",
    "# assert pool6.X >= pool5.X, \"breaking down the trade should result in less X going out\""
   ]
  },
  {
   "cell_type": "code",
   "execution_count": 32,
   "metadata": {},
   "outputs": [
    {
     "name": "stdout",
     "output_type": "stream",
     "text": [
      "Gap in liquidity... trying to get in range...\n",
      "no more active ticks (liquidity) in this direction\n",
      "swapped_dX=0.0 swapped_dY=0.0 pool_X=1.9979864400943015e-05 _Y=8893.09905028953\n",
      "Gap in liquidity... trying to get in range...\n",
      "no more active ticks (liquidity) in this direction\n",
      "swapped_dX=0.0 swapped_dY=0.0 pool_X=1.9979864400998526e-05 _Y=8893.099050289535\n"
     ]
    },
    {
     "data": {
      "text/plain": [
       "(0.0, 0.0)"
      ]
     },
     "execution_count": 32,
     "metadata": {},
     "output_type": "execute_result"
    }
   ],
   "source": [
    "pool5.execute_swap_from_Y(500)\n",
    "pool6.execute_swap_from_Y(500)"
   ]
  },
  {
   "cell_type": "markdown",
   "metadata": {},
   "source": [
    "----------\n",
    "7. execute_swap_from_Y(): pool starts with no liquidity in range"
   ]
  },
  {
   "cell_type": "code",
   "execution_count": 33,
   "metadata": {},
   "outputs": [
    {
     "name": "stdout",
     "output_type": "stream",
     "text": [
      "x_dep=3.997362440038902 y_dep=0.0 X returned 0.002637559961097935 Y returned 600.0\n",
      "GlobalState(L=0.0, rP=12.24744871391589, tick=50108, fg_x=0.0, fg_y=0.0, proto_x=0.0, proto_y=0.0)\n",
      "real reserves X=3.997362440038902 Y=0.0\n",
      "---active ticks---\n",
      "tick '51932': TickState(liq_net=465.0, liq_gross=465.0, f0_x=0, f0_y=0, s0_x=0.0, s0_y=0.0, i0_x=0.0, i0_y=0.0, sl0_x=0.0, sl0_y=0.0)\n",
      "tick '54383': TickState(liq_net=-465.0, liq_gross=465.0, f0_x=0, f0_y=0, s0_x=0.0, s0_y=0.0, i0_x=0.0, i0_y=0.0, sl0_x=0.0, sl0_y=0.0)\n",
      "---positions---\n",
      "poz '('dude', 51932, 54383)': PositionState(liq=465, fr_x=0.0, fr_y=0.0)\n"
     ]
    }
   ],
   "source": [
    "from v3_pool import *\n",
    "pool7= Pool(\"SOL\", 12, \"USDC\", 6, bootstrap_rP=150**0.5,tick_spacing=1)\n",
    "pool7.deposit(\"dude\",x=4, y=600, rPa=180**0.5, rPb=230**0.5)\n",
    "pool7.show()\n",
    "assert pool7.Y == 0.0, \"no Y deposited as range below price\""
   ]
  },
  {
   "cell_type": "code",
   "execution_count": 34,
   "metadata": {},
   "outputs": [
    {
     "name": "stdout",
     "output_type": "stream",
     "text": [
      "Gap in liquidity... trying to get in range...\n",
      "swapped_dX=-1.0766039259356373 swapped_dY=200.0 pool_X=2.920758514103265 pool_Y=200.0\n",
      "GlobalState(L=465.0, rP=13.846404750028977, tick=52563, fg_x=0.0, fg_y=0.0, proto_x=0.0, proto_y=0.0)\n",
      "real reserves X=2.920758514103265 Y=200.0\n",
      "---active ticks---\n",
      "tick '51932': TickState(liq_net=465.0, liq_gross=465.0, f0_x=0.0, f0_y=0.0, s0_x=0.0, s0_y=0.0, i0_x=0.0, i0_y=0.0, sl0_x=0.0, sl0_y=0.0)\n",
      "tick '54383': TickState(liq_net=-465.0, liq_gross=465.0, f0_x=0, f0_y=0, s0_x=0.0, s0_y=0.0, i0_x=0.0, i0_y=0.0, sl0_x=0.0, sl0_y=0.0)\n",
      "---positions---\n",
      "poz '('dude', 51932, 54383)': PositionState(liq=465, fr_x=0.0, fr_y=0.0)\n"
     ]
    }
   ],
   "source": [
    "pool7.execute_swap_from_Y(200)\n",
    "pool7.show()"
   ]
  },
  {
   "cell_type": "markdown",
   "metadata": {},
   "source": [
    "----------\n",
    "8. execute_swap_from_Y(): there is gap of liquidity on the way up while trying to fill whole amount"
   ]
  },
  {
   "cell_type": "code",
   "execution_count": 35,
   "metadata": {},
   "outputs": [
    {
     "name": "stdout",
     "output_type": "stream",
     "text": [
      "x_dep=1.8587444443840018 y_dep=599.9001781984224 X returned 0.14125555561599823 Y returned 0.09982180157760467\n",
      "x_dep=2.9964567099858472 y_dep=0.0 X returned 0.003543290014152767 Y returned 0.0\n",
      "GlobalState(L=611.0, rP=13.228756555322953, tick=51650, fg_x=0.0, fg_y=0.0, proto_x=0.0, proto_y=0.0)\n",
      "real reserves X=4.8552011543698494 Y=599.9001781984224\n",
      "---active ticks---\n",
      "tick '50108': TickState(liq_net=611.0, liq_gross=611.0, f0_x=0.0, f0_y=0.0, s0_x=0.0, s0_y=0.0, i0_x=0.0, i0_y=0.0, sl0_x=0.0, sl0_y=0.0)\n",
      "tick '52472': TickState(liq_net=-611.0, liq_gross=611.0, f0_x=0, f0_y=0, s0_x=0.0, s0_y=0.0, i0_x=0.0, i0_y=0.0, sl0_x=0.0, sl0_y=0.0)\n",
      "tick '53473': TickState(liq_net=520.0, liq_gross=520.0, f0_x=0, f0_y=0, s0_x=0.0, s0_y=0.0, i0_x=0.0, i0_y=0.0, sl0_x=0.0, sl0_y=0.0)\n",
      "tick '55217': TickState(liq_net=-520.0, liq_gross=520.0, f0_x=0, f0_y=0, s0_x=0.0, s0_y=0.0, i0_x=0.0, i0_y=0.0, sl0_x=0.0, sl0_y=0.0)\n",
      "---positions---\n",
      "poz '('dude', 50108, 52472)': PositionState(liq=611, fr_x=0.0, fr_y=0.0)\n",
      "poz '('mate', 53473, 55217)': PositionState(liq=520, fr_x=0.0, fr_y=0.0)\n"
     ]
    }
   ],
   "source": [
    "from v3_pool import *\n",
    "pool8= Pool(\"SOL\", 12, \"USDC\", 6, bootstrap_rP=175**0.5,tick_spacing=1)\n",
    "pool8.deposit(\"dude\",x=2, y=600, rPa=150**0.5, rPb=190**0.5)\n",
    "pool8.deposit(\"mate\",x=3, y=0, rPa=210**0.5, rPb=250**0.5)\n",
    "# gap of liquidity between 190 and 210 \n",
    "pool8.show()\n"
   ]
  },
  {
   "cell_type": "code",
   "execution_count": 36,
   "metadata": {},
   "outputs": [
    {
     "name": "stdout",
     "output_type": "stream",
     "text": [
      "Gap in liquidity... trying to get in range...\n",
      "Gap in liquidity... trying to get in range...\n",
      "no more active ticks (liquidity) in this direction\n",
      "swapped_dX=-4.855152602358306 swapped_dY=1025.4557302429805 pool_X=4.855201154363442e-05 _Y=1625.3559084414028\n",
      "GlobalState(L=0.0, rP=15.811095915727572, tick=55217, fg_x=0.0, fg_y=0.0, proto_x=0.0, proto_y=0.0)\n",
      "real reserves X=4.855201154363442e-05 Y=1625.3559084414028\n",
      "---active ticks---\n",
      "tick '50108': TickState(liq_net=611.0, liq_gross=611.0, f0_x=0.0, f0_y=0.0, s0_x=0.0, s0_y=0.0, i0_x=0.0, i0_y=0.0, sl0_x=0.0, sl0_y=0.0)\n",
      "tick '52472': TickState(liq_net=-611.0, liq_gross=611.0, f0_x=0.0, f0_y=0.0, s0_x=0.0, s0_y=0.0, i0_x=0.0, i0_y=0.0, sl0_x=0.0, sl0_y=0.0)\n",
      "tick '53473': TickState(liq_net=520.0, liq_gross=520.0, f0_x=0.0, f0_y=0.0, s0_x=0.0, s0_y=0.0, i0_x=0.0, i0_y=0.0, sl0_x=0.0, sl0_y=0.0)\n",
      "tick '55217': TickState(liq_net=-520.0, liq_gross=520.0, f0_x=0.0, f0_y=0.0, s0_x=0.0, s0_y=0.0, i0_x=0.0, i0_y=0.0, sl0_x=0.0, sl0_y=0.0)\n",
      "---positions---\n",
      "poz '('dude', 50108, 52472)': PositionState(liq=611, fr_x=0.0, fr_y=0.0)\n",
      "poz '('mate', 53473, 55217)': PositionState(liq=520, fr_x=0.0, fr_y=0.0)\n"
     ]
    }
   ],
   "source": [
    "pool8.execute_swap_from_Y(1500)\n",
    "pool8.show()"
   ]
  },
  {
   "cell_type": "markdown",
   "metadata": {},
   "source": [
    "-------------\n",
    "-------------\n",
    "9. withdraw()"
   ]
  },
  {
   "cell_type": "code",
   "execution_count": 37,
   "metadata": {},
   "outputs": [
    {
     "name": "stdout",
     "output_type": "stream",
     "text": [
      "x_dep=3.9932161139632054 y_dep=488.81423381261783 X returned 0.006783886036794584 Y returned 111.18576618738217\n",
      "GlobalState(L=535.0, rP=14.142135623730951, tick=52985, fg_x=0.0, fg_y=0.0, proto_x=0.0, proto_y=0.0)\n",
      "real reserves X=3.9932161139632054 Y=488.81423381261783\n",
      "---active ticks---\n",
      "tick '51650': TickState(liq_net=535.0, liq_gross=535.0, f0_x=0.0, f0_y=0.0, s0_x=0.0, s0_y=0.0, i0_x=0.0, i0_y=0.0, sl0_x=0.0, sl0_y=0.0)\n",
      "tick '55217': TickState(liq_net=-535.0, liq_gross=535.0, f0_x=0, f0_y=0, s0_x=0.0, s0_y=0.0, i0_x=0.0, i0_y=0.0, sl0_x=0.0, sl0_y=0.0)\n",
      "---positions---\n",
      "poz '('dude', 51650, 55217)': PositionState(liq=535, fr_x=0.0, fr_y=0.0)\n"
     ]
    }
   ],
   "source": [
    "from v3_pool import *\n",
    "pool_w= Pool(\"SOL\", 12, \"USDC\", 6, bootstrap_rP=200**0.5,tick_spacing=1)\n",
    "pool_w.deposit(\"dude\",x=4, y=600, rPa=175**0.5, rPb=250**0.5)\n",
    "pool_w.show()"
   ]
  },
  {
   "cell_type": "code",
   "execution_count": 38,
   "metadata": {},
   "outputs": [
    {
     "name": "stdout",
     "output_type": "stream",
     "text": [
      "Gap in liquidity... trying to get in range...\n",
      "no more active ticks (liquidity) in this direction\n",
      "swapped_dX=2.612879736633043 swapped_dY=-488.8093456702797 pool_X=6.606095850596248 _Y=0.004888142338131729\n",
      "GlobalState(L=0.0, rP=13.228464158660637, tick=51649, fg_x=0.0, fg_y=0.0, proto_x=0.0, proto_y=0.0)\n",
      "real reserves X=6.606095850596248 Y=0.004888142338131729\n",
      "---active ticks---\n",
      "tick '51650': TickState(liq_net=535.0, liq_gross=535.0, f0_x=0.0, f0_y=0.0, s0_x=0.0, s0_y=0.0, i0_x=0.0, i0_y=0.0, sl0_x=0.0, sl0_y=0.0)\n",
      "tick '55217': TickState(liq_net=-535.0, liq_gross=535.0, f0_x=0, f0_y=0, s0_x=0.0, s0_y=0.0, i0_x=0.0, i0_y=0.0, sl0_x=0.0, sl0_y=0.0)\n",
      "---positions---\n",
      "poz '('dude', 51650, 55217)': PositionState(liq=535, fr_x=0.0, fr_y=0.0)\n"
     ]
    }
   ],
   "source": [
    "pool_w.execute_swap_from_X(20)\n",
    "# pool_w.execute_swap_from_Y(380)\n",
    "pool_w.show()"
   ]
  },
  {
   "cell_type": "code",
   "execution_count": 39,
   "metadata": {},
   "outputs": [
    {
     "name": "stdout",
     "output_type": "stream",
     "text": [
      "x_out=6.606029789637744 y_out=0.0\n",
      "GlobalState(L=0.0, rP=13.228464158660637, tick=51649, fg_x=0.0, fg_y=0.0, proto_x=0.0, proto_y=0.0)\n",
      "real reserves X=6.606095850436589e-05 Y=0.004888142338131729\n",
      "---active ticks---\n",
      "---positions---\n"
     ]
    }
   ],
   "source": [
    "\n",
    "pool_w.withdraw(\"dude\",liq=535, rPa=175**0.5, rPb=250**0.5)\n",
    "pool_w.show()"
   ]
  }
 ],
 "metadata": {
  "interpreter": {
   "hash": "5cf590adf64b12f100e2631293f66eedf21812d31d21d345d3dafaac5b13c0f5"
  },
  "kernelspec": {
   "display_name": "Python 3.9.7 64-bit",
   "language": "python",
   "name": "python3"
  },
  "language_info": {
   "codemirror_mode": {
    "name": "ipython",
    "version": 3
   },
   "file_extension": ".py",
   "mimetype": "text/x-python",
   "name": "python",
   "nbconvert_exporter": "python",
   "pygments_lexer": "ipython3",
   "version": "3.9.7"
  },
  "orig_nbformat": 4
 },
 "nbformat": 4,
 "nbformat_minor": 2
}
