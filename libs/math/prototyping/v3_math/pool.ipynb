{
 "cells": [
  {
   "cell_type": "code",
   "execution_count": 1,
   "metadata": {},
   "outputs": [],
   "source": [
    "from v3_pool import *"
   ]
  },
  {
   "cell_type": "markdown",
   "metadata": {},
   "source": [
    "## Test constructors"
   ]
  },
  {
   "cell_type": "code",
   "execution_count": 2,
   "metadata": {},
   "outputs": [
    {
     "data": {
      "text/plain": [
       "Token(name='ETH', decimals=18)"
      ]
     },
     "execution_count": 2,
     "metadata": {},
     "output_type": "execute_result"
    }
   ],
   "source": [
    "Token(\"ETH\",18)"
   ]
  },
  {
   "cell_type": "code",
   "execution_count": 3,
   "metadata": {},
   "outputs": [
    {
     "data": {
      "text/plain": [
       "GlobalState(L=0.0, rP=0.0, tick=0, fg_x=0.0, fg_y=0.0, proto_x=0.0, proto_y=0.0)"
      ]
     },
     "execution_count": 3,
     "metadata": {},
     "output_type": "execute_result"
    }
   ],
   "source": [
    "GlobalState()"
   ]
  },
  {
   "cell_type": "code",
   "execution_count": 4,
   "metadata": {},
   "outputs": [
    {
     "data": {
      "text/plain": [
       "TickState(liq_net=0.0, liq_gross=0.0, f0_x=0.0, f0_y=0.0, s0_x=0.0, s0_y=0.0, i0_x=0.0, i0_y=0.0, sl0_x=0.0, sl0_y=0.0)"
      ]
     },
     "execution_count": 4,
     "metadata": {},
     "output_type": "execute_result"
    }
   ],
   "source": [
    "TickState()"
   ]
  },
  {
   "cell_type": "code",
   "execution_count": 5,
   "metadata": {},
   "outputs": [
    {
     "data": {
      "text/plain": [
       "PositionState(liq=0.0, fr_x=0.0, fr_y=0.0)"
      ]
     },
     "execution_count": 5,
     "metadata": {},
     "output_type": "execute_result"
    }
   ],
   "source": [
    "PositionState()"
   ]
  },
  {
   "cell_type": "code",
   "execution_count": 6,
   "metadata": {},
   "outputs": [
    {
     "data": {
      "text/plain": [
       "ETH-USDC pool - tick spacing 1\n",
       "Token(name='ETH', decimals=18) Token(name='USDC', decimals=6)\n",
       "GlobalState(L=0.0, rP=63.245553203367585, tick=82944, fg_x=0.0, fg_y=0.0, proto_x=0.0, proto_y=0.0)\n",
       "real reserve X=0.0 Y=0.0\n"
      ]
     },
     "execution_count": 6,
     "metadata": {},
     "output_type": "execute_result"
    }
   ],
   "source": [
    "Pool(\"ETH\", 18, \"USDC\", 6, bootstrap_rP=4000**0.5)"
   ]
  },
  {
   "cell_type": "markdown",
   "metadata": {},
   "source": [
    "## Test static method formulas"
   ]
  },
  {
   "cell_type": "markdown",
   "metadata": {},
   "source": [
    "Problem 1:  \n",
    "A user has x = 2 ETH and wants to set up a liquidity position in an ETH/USDC pool. The current price of ETH is P =2000 USDC and target price range is from pa = 1500 to pb = 2500 USDC. How much USDC (y) do they need?"
   ]
  },
  {
   "cell_type": "code",
   "execution_count": 7,
   "metadata": {},
   "outputs": [
    {
     "data": {
      "text/plain": [
       "847.2135954999583"
      ]
     },
     "execution_count": 7,
     "metadata": {},
     "output_type": "execute_result"
    }
   ],
   "source": [
    "# 2-step: get L first\n",
    "a,P,b = 1500,2000,2500\n",
    "x = 2.0 \n",
    "# First, calculate the liquidity of the top half of the range by using\n",
    "# reserve x cover from current P to upper bound (pretend P is lower bound)\n",
    "Lx = Pool.liq_x_only(x=x,rPa=P**0.5, rPb=b**0.5)\n",
    "Lx"
   ]
  },
  {
   "cell_type": "code",
   "execution_count": 8,
   "metadata": {},
   "outputs": [
    {
     "data": {
      "text/plain": [
       "5076.102359479882"
      ]
     },
     "execution_count": 8,
     "metadata": {},
     "output_type": "execute_result"
    }
   ],
   "source": [
    "# 2-step: then get y . \n",
    "y = Pool.y_from_L_rP_rng(L=Lx,rP=P**0.5,rPa=a**0.5,rPb=b**0.5)\n",
    "y"
   ]
  },
  {
   "cell_type": "markdown",
   "metadata": {},
   "source": [
    "Problem 2:  \n",
    "A user has x=2 ETH and y=4000 USDC, and wants to use pb =3000USDC perETH as the top of the price range. What is the bottom of the range (pa) that ensures the opened position uses the full amount of their funds?"
   ]
  },
  {
   "cell_type": "code",
   "execution_count": 9,
   "metadata": {},
   "outputs": [
    {
     "data": {
      "text/plain": [
       "1333.3333333333333"
      ]
     },
     "execution_count": 9,
     "metadata": {},
     "output_type": "execute_result"
    }
   ],
   "source": [
    "# Bounds in 1-step\n",
    "x,y  = 2.0, 4000\n",
    "P = y/x\n",
    "b= 3000\n",
    "\n",
    "rPa = Pool.rPa_from_x_y_rP_rPb(x=x,y=y,rP=P**0.5,rPb=b**0.5)\n",
    "rPa**2"
   ]
  },
  {
   "cell_type": "code",
   "execution_count": 10,
   "metadata": {},
   "outputs": [
    {
     "data": {
      "text/plain": [
       "1333.3333333333337"
      ]
     },
     "execution_count": 10,
     "metadata": {},
     "output_type": "execute_result"
    }
   ],
   "source": [
    "# Bounds in 2-steps\n",
    "# compute L using the top part of range, given we know x \n",
    "Lx = Pool.liq_x_only(x,rPa=P**0.5,rPb=b**0.5)\n",
    "# then get lower bound from L, price and y\n",
    "rPa = Pool.rPa_from_L_rP_y(L=Lx,rP=P**0.5,y=y)\n",
    "rPa**2"
   ]
  },
  {
   "cell_type": "code",
   "execution_count": null,
   "metadata": {},
   "outputs": [],
   "source": []
  },
  {
   "cell_type": "markdown",
   "metadata": {},
   "source": [
    "Problem 3:  \n",
    "Using the liquidity position created in Problem 2, what are asset balances when the price changes to P = 2500 USDC per ETH?"
   ]
  },
  {
   "cell_type": "code",
   "execution_count": 11,
   "metadata": {},
   "outputs": [
    {
     "data": {
      "text/plain": [
       "(0.8493641204744684, 6572.9000439693455)"
      ]
     },
     "execution_count": 11,
     "metadata": {},
     "output_type": "execute_result"
    }
   ],
   "source": [
    "# compute L from price when position established, reserves and bounds\n",
    "L = Pool.liq_from_x_y_rP_rng(x=x,y=y,rP=P**0.5, rPa=rPa, rPb=b**0.5)\n",
    "\n",
    "x_new = Pool.x_from_L_rP_rng(L=L, rP=2500**0.5, rPa=rPa, rPb=b**0.5)\n",
    "\n",
    "y_new = Pool.y_from_L_rP_rng(L=L, rP=2500**0.5, rPa=rPa, rPb=b**0.5)\n",
    "\n",
    "x_new , y_new"
   ]
  },
  {
   "cell_type": "code",
   "execution_count": 12,
   "metadata": {},
   "outputs": [
    {
     "name": "stdout",
     "output_type": "stream",
     "text": [
      "L=487.41718030204123 dX=-1.1506358795255318 x_new=0.8493641204744682\n"
     ]
    }
   ],
   "source": [
    "# or calc change of reserves based on change of price\n",
    "dX =  Pool.dX_from_L_drP(L,rP_old=P**0.5,rP_new=2500**0.5)\n",
    "print(f\"{L=} {dX=} x_new={x + dX}\")"
   ]
  },
  {
   "cell_type": "code",
   "execution_count": 13,
   "metadata": {},
   "outputs": [
    {
     "name": "stdout",
     "output_type": "stream",
     "text": [
      "dY=2572.9000439693473 y_new=6572.900043969347\n"
     ]
    }
   ],
   "source": [
    "dY =  Pool.dY_from_L_drP(L,rP_old=P**0.5,rP_new=2500**0.5)\n",
    "print(f\"{dY=} y_new={y + dY}\")"
   ]
  },
  {
   "cell_type": "markdown",
   "metadata": {},
   "source": [
    "## Test pool mechanics"
   ]
  },
  {
   "cell_type": "markdown",
   "metadata": {},
   "source": [
    "### Pool Init and tick math"
   ]
  },
  {
   "cell_type": "code",
   "execution_count": 14,
   "metadata": {},
   "outputs": [
    {
     "data": {
      "text/plain": [
       "ETH-USDC pool - tick spacing 30\n",
       "Token(name='ETH', decimals=18) Token(name='USDC', decimals=6)\n",
       "GlobalState(L=0.0, rP=63.245553203367585, tick=82920, fg_x=0.0, fg_y=0.0, proto_x=0.0, proto_y=0.0)\n",
       "real reserve X=0.0 Y=0.0\n"
      ]
     },
     "execution_count": 14,
     "metadata": {},
     "output_type": "execute_result"
    }
   ],
   "source": [
    "pool= Pool(\"ETH\", 18, \"USDC\", 6, bootstrap_rP=4000**0.5,tick_spacing=30)\n",
    "pool"
   ]
  },
  {
   "cell_type": "code",
   "execution_count": 15,
   "metadata": {},
   "outputs": [],
   "source": [
    "assert(pool.tick_to_rP(pool.global_state.tick) <= pool.global_state.rP)"
   ]
  },
  {
   "cell_type": "code",
   "execution_count": 16,
   "metadata": {},
   "outputs": [
    {
     "name": "stdout",
     "output_type": "stream",
     "text": [
      "82944 82920\n",
      "82944 82950\n"
     ]
    }
   ],
   "source": [
    "print(pool.rP_to_tick(pool.global_state.rP), pool.rP_to_possible_tick(pool.global_state.rP))\n",
    "print(pool.rP_to_tick(pool.global_state.rP), pool.rP_to_possible_tick(pool.global_state.rP, left_to_right=True))"
   ]
  },
  {
   "cell_type": "markdown",
   "metadata": {},
   "source": [
    "### Deposit - withdraw"
   ]
  },
  {
   "cell_type": "markdown",
   "metadata": {},
   "source": [
    "1. set_position()"
   ]
  },
  {
   "cell_type": "code",
   "execution_count": 17,
   "metadata": {},
   "outputs": [
    {
     "data": {
      "text/plain": [
       "ETH-USDC pool - tick spacing 100\n",
       "Token(name='ETH', decimals=18) Token(name='USDC', decimals=6)\n",
       "GlobalState(L=0.0, rP=63.245553203367585, tick=82900, fg_x=0.0, fg_y=0.0, proto_x=0.0, proto_y=0.0)\n",
       "real reserve X=0.0 Y=0.0\n"
      ]
     },
     "execution_count": 17,
     "metadata": {},
     "output_type": "execute_result"
    }
   ],
   "source": [
    "pool= Pool(\"ETH\", 18, \"USDC\", 6, bootstrap_rP=4000**0.5,tick_spacing=100)\n",
    "pool"
   ]
  },
  {
   "cell_type": "code",
   "execution_count": 18,
   "metadata": {},
   "outputs": [
    {
     "name": "stdout",
     "output_type": "stream",
     "text": [
      "GlobalState(L=300.0, rP=63.245553203367585, tick=82900, fg_x=0.0, fg_y=0.0, proto_x=0.0, proto_y=0.0)\n",
      "real reserves X=0.0 Y=0.0\n",
      "---active ticks---\n",
      "tick '80000': TickState(liq_net=300.0, liq_gross=300.0, f0_x=0.0, f0_y=0.0, s0_x=0.0, s0_y=0.0, i0_x=0.0, i0_y=0.0, sl0_x=0.0, sl0_y=0.0)\n",
      "tick '90000': TickState(liq_net=-300.0, liq_gross=300.0, f0_x=0, f0_y=0, s0_x=0.0, s0_y=0.0, i0_x=0.0, i0_y=0.0, sl0_x=0.0, sl0_y=0.0)\n",
      "---positions---\n",
      "poz '('123', 80000, 90000)': PositionState(liq=300, fr_x=0.0, fr_y=0.0)\n"
     ]
    }
   ],
   "source": [
    "\n",
    "pool._set_position(\"123\", 80000, 90000, 300)\n",
    "pool.show()"
   ]
  },
  {
   "cell_type": "code",
   "execution_count": 19,
   "metadata": {},
   "outputs": [
    {
     "name": "stdout",
     "output_type": "stream",
     "text": [
      "GlobalState(L=300.0, rP=63.245553203367585, tick=82900, fg_x=0.0, fg_y=0.0, proto_x=0.0, proto_y=0.0)\n",
      "real reserves X=0.0 Y=0.0\n",
      "---active ticks---\n",
      "tick '80000': TickState(liq_net=300.0, liq_gross=300.0, f0_x=0.0, f0_y=0.0, s0_x=0.0, s0_y=0.0, i0_x=0.0, i0_y=0.0, sl0_x=0.0, sl0_y=0.0)\n",
      "tick '90000': TickState(liq_net=-100.0, liq_gross=500.0, f0_x=0, f0_y=0, s0_x=0.0, s0_y=0.0, i0_x=0.0, i0_y=0.0, sl0_x=0.0, sl0_y=0.0)\n",
      "tick '95000': TickState(liq_net=-200.0, liq_gross=200.0, f0_x=0, f0_y=0, s0_x=0.0, s0_y=0.0, i0_x=0.0, i0_y=0.0, sl0_x=0.0, sl0_y=0.0)\n",
      "---positions---\n",
      "poz '('123', 80000, 90000)': PositionState(liq=300, fr_x=0.0, fr_y=0.0)\n",
      "poz '('888', 90000, 95000)': PositionState(liq=200, fr_x=0.0, fr_y=0.0)\n"
     ]
    }
   ],
   "source": [
    "pool._set_position(\"888\", 90000,95000 , 200)\n",
    "pool.show()"
   ]
  },
  {
   "cell_type": "code",
   "execution_count": 20,
   "metadata": {},
   "outputs": [
    {
     "name": "stdout",
     "output_type": "stream",
     "text": [
      "GlobalState(L=700.0, rP=63.245553203367585, tick=82900, fg_x=0.0, fg_y=0.0, proto_x=0.0, proto_y=0.0)\n",
      "real reserves X=0.0 Y=0.0\n",
      "---active ticks---\n",
      "tick '80000': TickState(liq_net=300.0, liq_gross=300.0, f0_x=0.0, f0_y=0.0, s0_x=0.0, s0_y=0.0, i0_x=0.0, i0_y=0.0, sl0_x=0.0, sl0_y=0.0)\n",
      "tick '90000': TickState(liq_net=-100.0, liq_gross=500.0, f0_x=0, f0_y=0, s0_x=0.0, s0_y=0.0, i0_x=0.0, i0_y=0.0, sl0_x=0.0, sl0_y=0.0)\n",
      "tick '95000': TickState(liq_net=-600.0, liq_gross=600.0, f0_x=0, f0_y=0, s0_x=0.0, s0_y=0.0, i0_x=0.0, i0_y=0.0, sl0_x=0.0, sl0_y=0.0)\n",
      "tick '70000': TickState(liq_net=400.0, liq_gross=400.0, f0_x=0.0, f0_y=0.0, s0_x=0.0, s0_y=0.0, i0_x=0.0, i0_y=0.0, sl0_x=0.0, sl0_y=0.0)\n",
      "---positions---\n",
      "poz '('123', 80000, 90000)': PositionState(liq=300, fr_x=0.0, fr_y=0.0)\n",
      "poz '('888', 90000, 95000)': PositionState(liq=200, fr_x=0.0, fr_y=0.0)\n",
      "poz '('888', 70000, 95000)': PositionState(liq=400, fr_x=0.0, fr_y=0.0)\n"
     ]
    }
   ],
   "source": [
    "pool._set_position(\"888\", 70000, 95000, 400)\n",
    "pool.show()"
   ]
  },
  {
   "cell_type": "code",
   "execution_count": 21,
   "metadata": {},
   "outputs": [
    {
     "name": "stdout",
     "output_type": "stream",
     "text": [
      "GlobalState(L=700.0, rP=63.245553203367585, tick=82900, fg_x=0.0, fg_y=0.0, proto_x=0.0, proto_y=0.0)\n",
      "real reserves X=0.0 Y=0.0\n",
      "---active ticks---\n",
      "tick '80000': TickState(liq_net=300.0, liq_gross=300.0, f0_x=0.0, f0_y=0.0, s0_x=0.0, s0_y=0.0, i0_x=0.0, i0_y=0.0, sl0_x=0.0, sl0_y=0.0)\n",
      "tick '90000': TickState(liq_net=-300.0, liq_gross=300.0, f0_x=0, f0_y=0, s0_x=0.0, s0_y=0.0, i0_x=0.0, i0_y=0.0, sl0_x=0.0, sl0_y=0.0)\n",
      "tick '95000': TickState(liq_net=-400.0, liq_gross=400.0, f0_x=0, f0_y=0, s0_x=0.0, s0_y=0.0, i0_x=0.0, i0_y=0.0, sl0_x=0.0, sl0_y=0.0)\n",
      "tick '70000': TickState(liq_net=400.0, liq_gross=400.0, f0_x=0.0, f0_y=0.0, s0_x=0.0, s0_y=0.0, i0_x=0.0, i0_y=0.0, sl0_x=0.0, sl0_y=0.0)\n",
      "---positions---\n",
      "poz '('123', 80000, 90000)': PositionState(liq=300, fr_x=0.0, fr_y=0.0)\n",
      "poz '('888', 70000, 95000)': PositionState(liq=400, fr_x=0.0, fr_y=0.0)\n"
     ]
    }
   ],
   "source": [
    "pool._set_position(\"888\", 90000, 95000, -200)\n",
    "pool.show()"
   ]
  },
  {
   "cell_type": "markdown",
   "metadata": {},
   "source": [
    "2. deposit()"
   ]
  },
  {
   "cell_type": "code",
   "execution_count": 22,
   "metadata": {},
   "outputs": [
    {
     "name": "stdout",
     "output_type": "stream",
     "text": [
      "x_dep=1.4976903348947113 y_dep=2997.0467633725266 X returned 0.0023096651052887385 Y returned 1002.9532366274734\n",
      "GlobalState(L=365.0, rP=44.721359549995796, tick=76012, fg_x=0.0, fg_y=0.0, proto_x=0.0, proto_y=0.0)\n",
      "real reserves X=1.4976903348947113 Y=2997.0467633725266\n",
      "---active ticks---\n",
      "tick '71955': TickState(liq_net=365.0, liq_gross=365.0, f0_x=0.0, f0_y=0.0, s0_x=0.0, s0_y=0.0, i0_x=0.0, i0_y=0.0, sl0_x=0.0, sl0_y=0.0)\n",
      "tick '80067': TickState(liq_net=-365.0, liq_gross=365.0, f0_x=0, f0_y=0, s0_x=0.0, s0_y=0.0, i0_x=0.0, i0_y=0.0, sl0_x=0.0, sl0_y=0.0)\n",
      "---positions---\n",
      "poz '('abc', 71955, 80067)': PositionState(liq=365, fr_x=0.0, fr_y=0.0)\n"
     ]
    }
   ],
   "source": [
    "pool= Pool(\"ETH\", 18, \"USDC\", 6, bootstrap_rP=2000**0.5,tick_spacing=1)\n",
    "pool.deposit(\"abc\",x=1.5, y=4000, rPa=1333**0.5, rPb=3000**0.5)\n",
    "pool.show()"
   ]
  },
  {
   "cell_type": "code",
   "execution_count": 23,
   "metadata": {},
   "outputs": [
    {
     "ename": "AssertionError",
     "evalue": "",
     "output_type": "error",
     "traceback": [
      "\u001b[0;31m---------------------------------------------------------------------------\u001b[0m",
      "\u001b[0;31mAssertionError\u001b[0m                            Traceback (most recent call last)",
      "\u001b[0;32m/var/folders/wp/kv2bb4_5669g_0nbxfkh8xvc0000gn/T/ipykernel_67441/1368144928.py\u001b[0m in \u001b[0;36m<module>\u001b[0;34m\u001b[0m\n\u001b[0;32m----> 1\u001b[0;31m \u001b[0mpool\u001b[0m\u001b[0;34m.\u001b[0m\u001b[0mexecute_swap_from_X\u001b[0m\u001b[0;34m(\u001b[0m\u001b[0;36m0.5\u001b[0m\u001b[0;34m)\u001b[0m\u001b[0;34m\u001b[0m\u001b[0;34m\u001b[0m\u001b[0m\n\u001b[0m",
      "\u001b[0;32m~/Documents/code/hydra/hydra-protocol/libs/math/prototyping/v3_math/v3_pool.py\u001b[0m in \u001b[0;36mexecute_swap_from_X\u001b[0;34m(self, dX)\u001b[0m\n\u001b[1;32m    502\u001b[0m             \u001b[0mtmp_tick\u001b[0m \u001b[0;34m=\u001b[0m \u001b[0mself\u001b[0m\u001b[0;34m.\u001b[0m\u001b[0mrP_to_possible_tick\u001b[0m\u001b[0;34m(\u001b[0m\u001b[0mcurr_rP\u001b[0m\u001b[0;34m,\u001b[0m \u001b[0mleft_to_right\u001b[0m\u001b[0;34m)\u001b[0m\u001b[0;34m\u001b[0m\u001b[0;34m\u001b[0m\u001b[0m\n\u001b[1;32m    503\u001b[0m             \u001b[0;31m# we shouldn't have changed tick yet before crossing is required\u001b[0m\u001b[0;34m\u001b[0m\u001b[0;34m\u001b[0m\u001b[0m\n\u001b[0;32m--> 504\u001b[0;31m             \u001b[0;32massert\u001b[0m \u001b[0mtmp_tick\u001b[0m \u001b[0;34m==\u001b[0m \u001b[0mnext_tick\u001b[0m\u001b[0;34m\u001b[0m\u001b[0;34m\u001b[0m\u001b[0m\n\u001b[0m\u001b[1;32m    505\u001b[0m \u001b[0;34m\u001b[0m\u001b[0m\n\u001b[1;32m    506\u001b[0m             \u001b[0;31m# update global state to reflect price change (if any)\u001b[0m\u001b[0;34m\u001b[0m\u001b[0;34m\u001b[0m\u001b[0m\n",
      "\u001b[0;31mAssertionError\u001b[0m: "
     ]
    }
   ],
   "source": [
    "pool.execute_swap_from_X(0.5)"
   ]
  }
 ],
 "metadata": {
  "interpreter": {
   "hash": "5cf590adf64b12f100e2631293f66eedf21812d31d21d345d3dafaac5b13c0f5"
  },
  "kernelspec": {
   "display_name": "Python 3.9.7 64-bit",
   "language": "python",
   "name": "python3"
  },
  "language_info": {
   "codemirror_mode": {
    "name": "ipython",
    "version": 3
   },
   "file_extension": ".py",
   "mimetype": "text/x-python",
   "name": "python",
   "nbconvert_exporter": "python",
   "pygments_lexer": "ipython3",
   "version": "3.9.7"
  },
  "orig_nbformat": 4
 },
 "nbformat": 4,
 "nbformat_minor": 2
}
