{
 "cells": [
  {
   "cell_type": "code",
   "execution_count": 1,
   "metadata": {},
   "outputs": [],
   "source": [
    "from v3_pool import *"
   ]
  },
  {
   "cell_type": "code",
   "execution_count": 2,
   "metadata": {},
   "outputs": [
    {
     "data": {
      "text/plain": [
       "Token(name='ETH', decimals=18)"
      ]
     },
     "execution_count": 2,
     "metadata": {},
     "output_type": "execute_result"
    }
   ],
   "source": [
    "Token(\"ETH\",18)"
   ]
  },
  {
   "cell_type": "code",
   "execution_count": 3,
   "metadata": {},
   "outputs": [
    {
     "data": {
      "text/plain": [
       "GlobalState(L=0.0, rP=0.0, tick=0, fg_x=0.0, fg_y=0.0, proto_x=0.0, proto_y=0.0)"
      ]
     },
     "execution_count": 3,
     "metadata": {},
     "output_type": "execute_result"
    }
   ],
   "source": [
    "GlobalState()"
   ]
  },
  {
   "cell_type": "code",
   "execution_count": 4,
   "metadata": {},
   "outputs": [
    {
     "data": {
      "text/plain": [
       "TickState(liq_net=0.0, liq_gross=0.0, f0_x=0.0, f0_y=0.0)"
      ]
     },
     "execution_count": 4,
     "metadata": {},
     "output_type": "execute_result"
    }
   ],
   "source": [
    "TickState()"
   ]
  },
  {
   "cell_type": "code",
   "execution_count": 5,
   "metadata": {},
   "outputs": [
    {
     "data": {
      "text/plain": [
       "PositionState(liq=0.0, fr_x=0.0, fr_y=0.0)"
      ]
     },
     "execution_count": 5,
     "metadata": {},
     "output_type": "execute_result"
    }
   ],
   "source": [
    "PositionState()"
   ]
  },
  {
   "cell_type": "code",
   "execution_count": 6,
   "metadata": {},
   "outputs": [
    {
     "data": {
      "text/plain": [
       "ETH-USDC pool\n",
       "Token(name='ETH', decimals=18) Token(name='USDC', decimals=6)\n",
       "GlobalState(L=0.0, rP=0.0, tick=0, fg_x=0.0, fg_y=0.0, proto_x=0.0, proto_y=0.0)\n"
      ]
     },
     "execution_count": 6,
     "metadata": {},
     "output_type": "execute_result"
    }
   ],
   "source": [
    "pool=Pool(\"ETH\", 18, \"USDC\", 6)\n",
    "pool"
   ]
  },
  {
   "cell_type": "markdown",
   "metadata": {},
   "source": [
    "Problem 1:  \n",
    "A user has x = 2 ETH and wants to set up a liquidity position in an ETH/USDC pool. The current price of ETH is P =2000 USDC and target price range is from pa = 1500 to pb = 2500 USDC. How much USDC (y) do they need?"
   ]
  },
  {
   "cell_type": "code",
   "execution_count": 7,
   "metadata": {},
   "outputs": [
    {
     "data": {
      "text/plain": [
       "847.2135954999583"
      ]
     },
     "execution_count": 7,
     "metadata": {},
     "output_type": "execute_result"
    }
   ],
   "source": [
    "# 2-step: get L first\n",
    "a,P,b = 1500,2000,2500\n",
    "x = 2.0 \n",
    "# First, calculate the liquidity of the top half of the range by using\n",
    "# reserve x cover from current P to upper bound (pretend P is lower bound)\n",
    "Lx = Pool.liq_x_only(x=x,rPa=P**0.5, rPb=b**0.5)\n",
    "Lx"
   ]
  },
  {
   "cell_type": "code",
   "execution_count": 8,
   "metadata": {},
   "outputs": [
    {
     "data": {
      "text/plain": [
       "5076.102359479882"
      ]
     },
     "execution_count": 8,
     "metadata": {},
     "output_type": "execute_result"
    }
   ],
   "source": [
    "# 2-step: then get y . \n",
    "y = Pool.y_from_L_rP_rng(L=Lx,rP=P**0.5,rPa=a**0.5,rPb=b**0.5)\n",
    "y"
   ]
  },
  {
   "cell_type": "markdown",
   "metadata": {},
   "source": [
    "Problem 2:  \n",
    "A user has x=2 ETH and y=4000 USDC, and wants to use pb =3000USDC perETH as the top of the price range. What is the bottom of the range (pa) that ensures the opened position uses the full amount of their funds?"
   ]
  },
  {
   "cell_type": "code",
   "execution_count": 9,
   "metadata": {},
   "outputs": [
    {
     "data": {
      "text/plain": [
       "1333.3333333333333"
      ]
     },
     "execution_count": 9,
     "metadata": {},
     "output_type": "execute_result"
    }
   ],
   "source": [
    "# Bounds in 1-step\n",
    "x,y  = 2.0, 4000\n",
    "P = y/x\n",
    "b= 3000\n",
    "\n",
    "rPa = Pool.rPa_from_x_y_rP_rPb(x=x,y=y,rP=P**0.5,rPb=b**0.5)\n",
    "rPa**2"
   ]
  },
  {
   "cell_type": "code",
   "execution_count": 10,
   "metadata": {},
   "outputs": [
    {
     "data": {
      "text/plain": [
       "1333.3333333333337"
      ]
     },
     "execution_count": 10,
     "metadata": {},
     "output_type": "execute_result"
    }
   ],
   "source": [
    "# Bounds in 2-steps\n",
    "# compute L using the top part of range, given we know x \n",
    "Lx = Pool.liq_x_only(x,rPa=P**0.5,rPb=b**0.5)\n",
    "# then get lower bound from L, price and y\n",
    "rPa = Pool.rPa_from_L_rP_y(L=Lx,rP=P**0.5,y=y)\n",
    "rPa**2"
   ]
  },
  {
   "cell_type": "code",
   "execution_count": null,
   "metadata": {},
   "outputs": [],
   "source": []
  },
  {
   "cell_type": "markdown",
   "metadata": {},
   "source": [
    "Problem 3:  \n",
    "Using the liquidity position created in Problem 2, what are asset balances when the price changes to P = 2500 USDC per ETH?"
   ]
  },
  {
   "cell_type": "code",
   "execution_count": 11,
   "metadata": {},
   "outputs": [
    {
     "data": {
      "text/plain": [
       "(0.8493641204744684, 6572.9000439693455)"
      ]
     },
     "execution_count": 11,
     "metadata": {},
     "output_type": "execute_result"
    }
   ],
   "source": [
    "# compute L from price when position established, reserves and bounds\n",
    "L = Pool.liq_from_x_y_rP_rng(x=x,y=y,rP=P**0.5, rPa=rPa, rPb=b**0.5)\n",
    "\n",
    "x_new = Pool.x_from_L_rP_rng(L=L, rP=2500**0.5, rPa=rPa, rPb=b**0.5)\n",
    "\n",
    "y_new = Pool.y_from_L_rP_rng(L=L, rP=2500**0.5, rPa=rPa, rPb=b**0.5)\n",
    "\n",
    "x_new , y_new"
   ]
  },
  {
   "cell_type": "code",
   "execution_count": 12,
   "metadata": {},
   "outputs": [
    {
     "name": "stdout",
     "output_type": "stream",
     "text": [
      "L=487.41718030204123 dX=-1.1506358795255318 x_new=0.8493641204744682\n"
     ]
    }
   ],
   "source": [
    "# or calc change of reserves based on change of price\n",
    "dX =  Pool.dX_from_L_drP(L,rP_old=P**0.5,rP_new=2500**0.5)\n",
    "print(f\"{L=} {dX=} x_new={x + dX}\")"
   ]
  },
  {
   "cell_type": "code",
   "execution_count": 13,
   "metadata": {},
   "outputs": [
    {
     "name": "stdout",
     "output_type": "stream",
     "text": [
      "dY=2572.9000439693473 y_new=6572.900043969347\n"
     ]
    }
   ],
   "source": [
    "dY =  Pool.dY_from_L_drP(L,rP_old=P**0.5,rP_new=2500**0.5)\n",
    "print(f\"{dY=} y_new={y + dY}\")"
   ]
  },
  {
   "cell_type": "code",
   "execution_count": 14,
   "metadata": {},
   "outputs": [
    {
     "name": "stdout",
     "output_type": "stream",
     "text": [
      "GlobalState(L=300.0, rP=0.0, tick=0, fg_x=0.0, fg_y=0.0, proto_x=0.0, proto_y=0.0)\n",
      "\n",
      "---active ticks---\n",
      "tick '-10': TickState(liq_net=300.0, liq_gross=300.0, f0_x=0.0, f0_y=0.0)\n",
      "tick '30': TickState(liq_net=-300.0, liq_gross=300.0, f0_x=0, f0_y=0)\n",
      "---positions---\n",
      "poz '('123', -10, 30)': PositionState(liq=300, fr_x=0.0, fr_y=0.0)\n"
     ]
    }
   ],
   "source": [
    "pool.set_position(\"123\", -10, 30, 300)\n",
    "pool.show()"
   ]
  },
  {
   "cell_type": "code",
   "execution_count": 15,
   "metadata": {},
   "outputs": [
    {
     "name": "stdout",
     "output_type": "stream",
     "text": [
      "GlobalState(L=300.0, rP=0.0, tick=0, fg_x=0.0, fg_y=0.0, proto_x=0.0, proto_y=0.0)\n",
      "\n",
      "---active ticks---\n",
      "tick '-10': TickState(liq_net=300.0, liq_gross=300.0, f0_x=0.0, f0_y=0.0)\n",
      "tick '30': TickState(liq_net=-100.0, liq_gross=500.0, f0_x=0, f0_y=0)\n",
      "tick '50': TickState(liq_net=-200.0, liq_gross=200.0, f0_x=0, f0_y=0)\n",
      "---positions---\n",
      "poz '('123', -10, 30)': PositionState(liq=300, fr_x=0.0, fr_y=0.0)\n",
      "poz '('888', 30, 50)': PositionState(liq=200, fr_x=0.0, fr_y=0.0)\n"
     ]
    }
   ],
   "source": [
    "pool.set_position(\"888\", 30, 50, 200)\n",
    "pool.show()"
   ]
  },
  {
   "cell_type": "code",
   "execution_count": 16,
   "metadata": {},
   "outputs": [
    {
     "name": "stdout",
     "output_type": "stream",
     "text": [
      "GlobalState(L=300.0, rP=0.0, tick=0, fg_x=0.0, fg_y=0.0, proto_x=0.0, proto_y=0.0)\n",
      "\n",
      "---active ticks---\n",
      "tick '-10': TickState(liq_net=300.0, liq_gross=300.0, f0_x=0.0, f0_y=0.0)\n",
      "tick '30': TickState(liq_net=-300.0, liq_gross=300.0, f0_x=0, f0_y=0)\n",
      "---positions---\n",
      "poz '('123', -10, 30)': PositionState(liq=300, fr_x=0.0, fr_y=0.0)\n"
     ]
    }
   ],
   "source": [
    "pool.set_position(\"888\", 30, 50, -200)\n",
    "pool.show()"
   ]
  }
 ],
 "metadata": {
  "interpreter": {
   "hash": "5cf590adf64b12f100e2631293f66eedf21812d31d21d345d3dafaac5b13c0f5"
  },
  "kernelspec": {
   "display_name": "Python 3.9.7 64-bit",
   "language": "python",
   "name": "python3"
  },
  "language_info": {
   "codemirror_mode": {
    "name": "ipython",
    "version": 3
   },
   "file_extension": ".py",
   "mimetype": "text/x-python",
   "name": "python",
   "nbconvert_exporter": "python",
   "pygments_lexer": "ipython3",
   "version": "3.9.7"
  },
  "orig_nbformat": 4
 },
 "nbformat": 4,
 "nbformat_minor": 2
}
