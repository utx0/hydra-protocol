{
 "cells": [
  {
   "cell_type": "markdown",
   "metadata": {},
   "source": [
    "-------------\n",
    "-------------\n",
    "-------------\n",
    "## Test HMM"
   ]
  },
  {
   "cell_type": "markdown",
   "metadata": {},
   "source": [
    "To use HMM adjustment, pool needs to be created with 'hmm_C=...\" argument with a value different from 0.\n",
    "Furthermore, at swap time, rP_oracle needs to be provided each time. Any swap where the oracle price is not provided (or set to None), will not have HMM adjustment, even if C is set for the pool and other swaps did have HMM adjustment. "
   ]
  },
  {
   "cell_type": "markdown",
   "metadata": {},
   "source": [
    "-----------\n",
    "-----------\n",
    "1. use setting from \"3.execute_swap_from_X(): breaking up trades\" and compare"
   ]
  },
  {
   "cell_type": "code",
   "execution_count": 1,
   "metadata": {},
   "outputs": [
    {
     "name": "stdout",
     "output_type": "stream",
     "text": [
      "\n",
      "x_debited=1.9984356160534436 y_debited=3998.319535406821\n",
      "including fees_x+adj_x=0.0 and fees_y+adj_y=0.0\n",
      "X returned 0.0015643839465564469 Y returned 1.68046459317884\n"
     ]
    }
   ],
   "source": [
    "# No HMM\n",
    "from v3_pool import *\n",
    "amm_pool1= Pool(\"ETH\", 18, \"USDC\", 6, bootstrap_rP=2000**0.5,tick_spacing=1)\n",
    "amm_pool1.deposit(\"abc\",x=2, y=4000, rPa=1333**0.5, rPb=3000**0.5)"
   ]
  },
  {
   "cell_type": "code",
   "execution_count": 2,
   "metadata": {},
   "outputs": [
    {
     "name": "stdout",
     "output_type": "stream",
     "text": [
      "\n",
      "x_debited=1.9984356160534436 y_debited=3998.319535406821\n",
      "including fees_x+adj_x=0.0 and fees_y+adj_y=0.0\n",
      "X returned 0.0015643839465564469 Y returned 1.68046459317884\n"
     ]
    }
   ],
   "source": [
    "# With HMM\n",
    "hmm_pool1= Pool(\"ETH\", 18, \"USDC\", 6, bootstrap_rP=2000**0.5,tick_spacing=1,hmm_C=1.5)\n",
    "hmm_pool1.deposit(\"abc\",x=2, y=4000, rPa=1333**0.5, rPb=3000**0.5)"
   ]
  },
  {
   "cell_type": "code",
   "execution_count": 3,
   "metadata": {},
   "outputs": [
    {
     "name": "stdout",
     "output_type": "stream",
     "text": [
      "Gap in liquidity... trying to get in range...\n",
      "no more active ticks (liquidity) in this direction\n",
      "swpd_dX=2.4489254304363857 swpd_dY=-3998.3194954236255 pool_X=4.44736104648983 pool_Y=3.99831956201524e-05 avg_P=1632.683235565546, end_P=1332.9373\n",
      "adjusted_dY=0.0  pool_cumul_Y_adj=0.0 total_fee_X=0.0  pool_cumul_X_fee=0.0\n"
     ]
    },
    {
     "data": {
      "text/plain": [
       "(2.4489254304363857,\n",
       " -3998.3194954236255,\n",
       " 0.0,\n",
       " 0.0,\n",
       " 1632.683235565546,\n",
       " 1332.9372555720715)"
      ]
     },
     "execution_count": 3,
     "metadata": {},
     "output_type": "execute_result"
    }
   ],
   "source": [
    "amm_pool1.execute_swap_from_X(3)"
   ]
  },
  {
   "cell_type": "code",
   "execution_count": 4,
   "metadata": {},
   "outputs": [
    {
     "name": "stdout",
     "output_type": "stream",
     "text": [
      "Gap in liquidity... trying to get in range...\n",
      "no more active ticks (liquidity) in this direction\n",
      "swpd_dX=2.4489254304363857 swpd_dY=-3698.4036409671066 pool_X=4.44736104648983 pool_Y=3.99831956201524e-05 avg_P=1510.21488649741, end_P=1332.9373\n",
      "adjusted_dY=299.9158544565189  pool_cumul_Y_adj=299.9158544565189 total_fee_X=0.0  pool_cumul_X_fee=0.0\n"
     ]
    },
    {
     "data": {
      "text/plain": [
       "(2.4489254304363857,\n",
       " -3698.4036409671066,\n",
       " 299.9158544565189,\n",
       " 0.0,\n",
       " 1510.21488649741,\n",
       " 1332.9372555720715)"
      ]
     },
     "execution_count": 4,
     "metadata": {},
     "output_type": "execute_result"
    }
   ],
   "source": [
    "hmm_pool1.execute_swap_from_X(3, rP_oracle=1500**0.5)"
   ]
  },
  {
   "cell_type": "code",
   "execution_count": 5,
   "metadata": {},
   "outputs": [
    {
     "name": "stdout",
     "output_type": "stream",
     "text": [
      "Gap in liquidity... trying to get in range...\n",
      "swpd_dX=-2.427220678596034 swpd_dY=3955.0 pool_X=2.0201403678937955 pool_Y=3955.0000399831956 avg_P=1629.4356895013238, end_P=1991.8872\n",
      "adjusted_dX=0.0  pool_cumul_X_adj=0.0 total_fee_Y=0.0  pool_cumul_Y_fee=0.0\n"
     ]
    },
    {
     "data": {
      "text/plain": [
       "(-2.427220678596034, 3955.0, 0.0, 0.0, 1629.4356895013238, 1991.8871664967744)"
      ]
     },
     "execution_count": 5,
     "metadata": {},
     "output_type": "execute_result"
    }
   ],
   "source": [
    "amm_pool1.execute_swap_from_Y(3955) # even with oracle price give, no adj as C=0"
   ]
  },
  {
   "cell_type": "code",
   "execution_count": 6,
   "metadata": {},
   "outputs": [
    {
     "name": "stdout",
     "output_type": "stream",
     "text": [
      "Gap in liquidity... trying to get in range...\n",
      "swpd_dX=-2.293405862075104 swpd_dY=3955.0 pool_X=2.0201403678937955 pool_Y=3955.0000399831956 avg_P=1724.509414317736, end_P=1991.8872\n",
      "adjusted_dX=0.13381481652093008  pool_cumul_X_adj=0.13381481652093008 total_fee_Y=0.0  pool_cumul_Y_fee=0.0\n"
     ]
    },
    {
     "data": {
      "text/plain": [
       "(-2.293405862075104,\n",
       " 3955.0,\n",
       " 0.13381481652093008,\n",
       " 0.0,\n",
       " 1724.509414317736,\n",
       " 1991.8871664967744)"
      ]
     },
     "execution_count": 6,
     "metadata": {},
     "output_type": "execute_result"
    }
   ],
   "source": [
    "hmm_pool1.execute_swap_from_Y(3955, rP_oracle=1700**0.5)"
   ]
  },
  {
   "cell_type": "code",
   "execution_count": 7,
   "metadata": {},
   "outputs": [],
   "source": [
    "# amm_pool1.show()"
   ]
  },
  {
   "cell_type": "code",
   "execution_count": 8,
   "metadata": {},
   "outputs": [],
   "source": [
    "# hmm_pool1.show()\n",
    "assert hmm_pool1.X == amm_pool1.X, hmm_pool1.Y == amm_pool1.Y\n",
    "assert hmm_pool1.global_state.rP == amm_pool1.global_state.rP\n",
    "# assert hmm_pool1.X_adj> 0 ,hmm_pool1.Y_adj> 0"
   ]
  },
  {
   "cell_type": "markdown",
   "metadata": {},
   "source": [
    "-------------\n",
    "-------------\n",
    "-------------\n",
    "## Add fees"
   ]
  },
  {
   "cell_type": "code",
   "execution_count": 9,
   "metadata": {},
   "outputs": [
    {
     "name": "stdout",
     "output_type": "stream",
     "text": [
      "\n",
      "x_debited=1.9984356160534436 y_debited=3998.319535406821\n",
      "including fees_x+adj_x=0.0 and fees_y+adj_y=0.0\n",
      "X returned 0.0015643839465564469 Y returned 1.68046459317884\n",
      "\n",
      "GlobalState(L=487.0, rP=44.71951496148113, tick=76012, fg_x=0.0, fg_y=0.0, hg_x=0.0, hg_y=0.0)\n",
      "real reserves X=1.9984356160534436 Y=3998.319535406821\n",
      "cumulative HMM X_adj=0.0 Y_adj=0.0\n",
      "cumulative swap fees_X=0.0 fees_Y=0.0\n",
      "---active ticks---\n",
      "tick '71955': TickState(liq_net=487.0, liq_gross=487.0, f0_x=0.0, f0_y=0.0, h0_x=0.0, h0_y=0.0)\n",
      "tick '80067': TickState(liq_net=-487.0, liq_gross=487.0, f0_x=0, f0_y=0, h0_x=0, h0_y=0)\n",
      "---positions---\n",
      "poz '('alice', 71955, 80067)': PositionState(liq=487, fr_x=0.0, fr_y=0.0, hr_x=0.0, hr_y=0.0)\n"
     ]
    }
   ],
   "source": [
    "# No HMM\n",
    "from v3_pool import *\n",
    "amm_pool1= Pool(\"ETH\", 18, \"USDC\", 6, bootstrap_rP=2000**0.5,tick_spacing=1,fee_rate=0.003)\n",
    "amm_pool1.deposit(\"alice\",x=2, y=4000, rPa=1333**0.5, rPb=3000**0.5)\n",
    "# amm_pool1.deposit(\"bob\",x=0, y=2000, rPa=1000**0.5, rPb=1300**0.5)\n",
    "amm_pool1.show()"
   ]
  },
  {
   "cell_type": "code",
   "execution_count": 10,
   "metadata": {},
   "outputs": [
    {
     "name": "stdout",
     "output_type": "stream",
     "text": [
      "\n",
      "x_debited=1.9984356160534436 y_debited=3998.319535406821\n",
      "including fees_x+adj_x=0.0 and fees_y+adj_y=0.0\n",
      "X returned 0.0015643839465564469 Y returned 1.68046459317884\n",
      "\n",
      "GlobalState(L=487.0, rP=44.71951496148113, tick=76012, fg_x=0.0, fg_y=0.0, hg_x=0.0, hg_y=0.0)\n",
      "real reserves X=1.9984356160534436 Y=3998.319535406821\n",
      "cumulative HMM X_adj=0.0 Y_adj=0.0\n",
      "cumulative swap fees_X=0.0 fees_Y=0.0\n",
      "---active ticks---\n",
      "tick '71955': TickState(liq_net=487.0, liq_gross=487.0, f0_x=0.0, f0_y=0.0, h0_x=0.0, h0_y=0.0)\n",
      "tick '80067': TickState(liq_net=-487.0, liq_gross=487.0, f0_x=0, f0_y=0, h0_x=0, h0_y=0)\n",
      "---positions---\n",
      "poz '('alice', 71955, 80067)': PositionState(liq=487, fr_x=0.0, fr_y=0.0, hr_x=0.0, hr_y=0.0)\n"
     ]
    }
   ],
   "source": [
    "# With HMM\n",
    "hmm_pool1= Pool(\"ETH\", 18, \"USDC\", 6, bootstrap_rP=2000**0.5,tick_spacing=1,fee_rate=0.003,hmm_C=1.5)\n",
    "hmm_pool1.deposit(\"alice\",x=2, y=4000, rPa=1333**0.5, rPb=3000**0.5)\n",
    "# hmm_pool1.deposit(\"bob\",x=0, y=2000, rPa=1000**0.5, rPb=1300**0.5)\n",
    "hmm_pool1.show()"
   ]
  },
  {
   "cell_type": "code",
   "execution_count": 11,
   "metadata": {},
   "outputs": [
    {
     "name": "stdout",
     "output_type": "stream",
     "text": [
      "Gap in liquidity... trying to get in range...\n",
      "no more active ticks (liquidity) in this direction\n",
      "swpd_dX=2.456294313376515 swpd_dY=-3998.3194954236255 pool_X=4.44736104648983 pool_Y=3.99831956201524e-05 avg_P=1627.7851858588494, end_P=1332.9373\n",
      "adjusted_dY=0.0  pool_cumul_Y_adj=0.0 total_fee_X=0.007368882940129546  pool_cumul_X_fee=0.007368882940129546\n",
      "\n",
      "GlobalState(L=0.0, rP=36.509413246066714, tick=71954, fg_x=1.5131176468438493e-05, fg_y=0.0, hg_x=0.0, hg_y=0.0)\n",
      "real reserves X=4.44736104648983 Y=3.99831956201524e-05\n",
      "cumulative HMM X_adj=0.0 Y_adj=0.0\n",
      "cumulative swap fees_X=0.007368882940129546 fees_Y=0.0\n",
      "---active ticks---\n",
      "tick '71955': TickState(liq_net=487.0, liq_gross=487.0, f0_x=1.5131176468438493e-05, f0_y=0.0, h0_x=0.0, h0_y=0.0)\n",
      "tick '80067': TickState(liq_net=-487.0, liq_gross=487.0, f0_x=0, f0_y=0, h0_x=0, h0_y=0)\n",
      "---positions---\n",
      "poz '('alice', 71955, 80067)': PositionState(liq=487, fr_x=0.0, fr_y=0.0, hr_x=0.0, hr_y=0.0)\n"
     ]
    }
   ],
   "source": [
    "amm_pool1.execute_swap_from_X(3)\n",
    "# amm_pool1.deposit(\"alice\",x=1, y=2000, rPa=1333**0.5, rPb=3000**0.5)\n",
    "amm_pool1.show()\n"
   ]
  },
  {
   "cell_type": "code",
   "execution_count": 12,
   "metadata": {},
   "outputs": [
    {
     "name": "stdout",
     "output_type": "stream",
     "text": [
      "Gap in liquidity... trying to get in range...\n",
      "no more active ticks (liquidity) in this direction\n",
      "swpd_dX=2.456294313376515 swpd_dY=-3698.4036409671066 pool_X=4.44736104648983 pool_Y=3.99831956201524e-05 avg_P=1505.6842418379176, end_P=1332.9373\n",
      "adjusted_dY=299.9158544565189  pool_cumul_Y_adj=299.9158544565189 total_fee_X=0.007368882940129546  pool_cumul_X_fee=0.007368882940129546\n",
      "\n",
      "GlobalState(L=0.0, rP=36.509413246066714, tick=71954, fg_x=1.5131176468438493e-05, fg_y=0.0, hg_x=0.0, hg_y=0.6158436436478828)\n",
      "real reserves X=4.44736104648983 Y=3.99831956201524e-05\n",
      "cumulative HMM X_adj=0.0 Y_adj=299.9158544565189\n",
      "cumulative swap fees_X=0.007368882940129546 fees_Y=0.0\n",
      "---positions---\n",
      "poz '('alice', 71955, 80067)': PositionState(liq=487, fr_x=0.0, fr_y=0.0, hr_x=0.0, hr_y=0.0)\n"
     ]
    }
   ],
   "source": [
    "hmm_pool1.execute_swap_from_X(3, rP_oracle=1500**0.5)\n",
    "# hmm_pool1.deposit(\"alice\",x=1, y=2000, rPa=1333**0.5, rPb=3000**0.5)\n",
    "hmm_pool1.show(ticks=False)\n"
   ]
  },
  {
   "cell_type": "code",
   "execution_count": 13,
   "metadata": {},
   "outputs": [
    {
     "name": "stdout",
     "output_type": "stream",
     "text": [
      "Gap in liquidity... trying to get in range...\n",
      "swpd_dX=-2.4212607624810483 swpd_dY=3955.0 pool_X=2.0261002840087814 pool_Y=3943.1350399831954 avg_P=1633.4465338410475, end_P=1989.7131\n",
      "adjusted_dX=0.0  pool_cumul_X_adj=0.0 total_fee_Y=11.865000000000236  pool_cumul_Y_fee=11.865000000000236\n",
      "\n",
      "GlobalState(L=487.0, rP=44.60619969370532, tick=75961, fg_x=1.5131176468438493e-05, fg_y=0.02436344969199227, hg_x=0.0, hg_y=0.0)\n",
      "real reserves X=2.0261002840087814 Y=3943.1350399831954\n",
      "cumulative HMM X_adj=0.0 Y_adj=0.0\n",
      "cumulative swap fees_X=0.007368882940129546 fees_Y=11.865000000000236\n",
      "---positions---\n",
      "poz '('alice', 71955, 80067)': PositionState(liq=487, fr_x=0.0, fr_y=0.0, hr_x=0.0, hr_y=0.0)\n",
      "\n",
      "x_sent=2.0336082991834896 y_sent=3954.723122129936\n",
      "including fees_x+adj_x=0.007368882940129546 & fees_y+adj_y=11.865000000000236\n",
      "\n",
      "GlobalState(L=0.0, rP=44.60619969370532, tick=75961, fg_x=1.5131176468438493e-05, fg_y=0.02436344969199227, hg_x=0.0, hg_y=0.0)\n",
      "real reserves X=-0.00013913223457873158 Y=0.27691785325941964\n",
      "cumulative HMM X_adj=0.0 Y_adj=0.0\n",
      "cumulative swap fees_X=0.0 fees_Y=0.0\n",
      "---positions---\n"
     ]
    }
   ],
   "source": [
    "amm_pool1.execute_swap_from_Y(3955) # even with oracle price give, no adj as C=0\n",
    "amm_pool1.show(ticks=False)\n",
    "amm_pool1.withdraw('alice', 487, rPa=1333**0.5, rPb=3000**0.5)\n",
    "# amm_pool1.withdraw('bob', 451, rPa=1000**0.5, rPb=1300**0.5)\n",
    "amm_pool1.show(ticks=False)"
   ]
  },
  {
   "cell_type": "code",
   "execution_count": 14,
   "metadata": {},
   "outputs": [
    {
     "name": "stdout",
     "output_type": "stream",
     "text": [
      "Gap in liquidity... trying to get in range...\n",
      "swpd_dX=-2.287445945960118 swpd_dY=3955.0 pool_X=2.0261002840087814 pool_Y=3943.1350399831954 avg_P=1729.0026052790301, end_P=1989.7131\n",
      "adjusted_dX=0.13381481652093008  pool_cumul_X_adj=0.13381481652093008 total_fee_Y=11.865000000000236  pool_cumul_Y_fee=11.865000000000236\n",
      "\n",
      "GlobalState(L=487.0, rP=44.60619969370532, tick=75961, fg_x=1.5131176468438493e-05, fg_y=0.02436344969199227, hg_x=0.0002747737505563246, hg_y=0.6158436436478828)\n",
      "real reserves X=2.0261002840087814 Y=3943.1350399831954\n",
      "cumulative HMM X_adj=0.13381481652093008 Y_adj=299.9158544565189\n",
      "cumulative swap fees_X=0.007368882940129546 fees_Y=11.865000000000236\n",
      "---positions---\n",
      "poz '('alice', 71955, 80067)': PositionState(liq=487, fr_x=0.0, fr_y=0.0, hr_x=0.0, hr_y=0.0)\n",
      "\n",
      "x_sent=2.1674231157044197 y_sent=4254.638976586455\n",
      "including fees_x+adj_x=0.14118369946105963 & fees_y+adj_y=311.78085445651914\n",
      "\n",
      "GlobalState(L=0.0, rP=44.60619969370532, tick=75961, fg_x=1.5131176468438493e-05, fg_y=0.02436344969199227, hg_x=0.0002747737505563246, hg_y=0.6158436436478828)\n",
      "real reserves X=-0.00013913223457873158 Y=0.27691785325941964\n",
      "cumulative HMM X_adj=0.0 Y_adj=0.0\n",
      "cumulative swap fees_X=0.0 fees_Y=0.0\n",
      "---positions---\n"
     ]
    }
   ],
   "source": [
    "hmm_pool1.execute_swap_from_Y(3955, rP_oracle=1700**0.5)\n",
    "hmm_pool1.show(ticks=False)\n",
    "hmm_pool1.withdraw('alice', 487, rPa=1333**0.5, rPb=3000**0.5)\n",
    "# hmm_pool1.withdraw('bob', 451, rPa=1000**0.5, rPb=1300**0.5)\n",
    "hmm_pool1.show(ticks=False)"
   ]
  },
  {
   "cell_type": "markdown",
   "metadata": {},
   "source": [
    "-------------\n",
    "-------------\n",
    "-------------\n",
    "## Infinite loop"
   ]
  },
  {
   "cell_type": "code",
   "execution_count": 18,
   "metadata": {},
   "outputs": [
    {
     "name": "stdout",
     "output_type": "stream",
     "text": [
      "\n",
      "x_debited=1.9984356160534436 y_debited=3998.319535406821\n",
      "including fees_x+adj_x=0.0 and fees_y+adj_y=0.0\n",
      "X returned 0.0015643839465564469 Y returned 1.68046459317884\n",
      "\n",
      "x_debited=0.0 y_debited=3998.319535406821\n",
      "including fees_x+adj_x=0.0 and fees_y+adj_y=0.0\n",
      "X returned 0.0 Y returned 1.68046459317884\n",
      "\n",
      "GlobalState(L=487.0, rP=44.71951496148113, tick=76012, fg_x=0.0, fg_y=0.0, hg_x=0.0, hg_y=0.0)\n",
      "real reserves X=1.9984356160534436 Y=7996.639070813642\n",
      "cumulative HMM X_adj=0.0 Y_adj=0.0\n",
      "cumulative swap fees_X=0.0 fees_Y=0.0\n",
      "---active ticks---\n",
      "tick '71955': TickState(liq_net=974.0, liq_gross=974.0, f0_x=0.0, f0_y=0.0, h0_x=0.0, h0_y=0.0)\n",
      "tick '80067': TickState(liq_net=-487.0, liq_gross=487.0, f0_x=0, f0_y=0, h0_x=0, h0_y=0)\n",
      "tick '76012': TickState(liq_net=-487.0, liq_gross=487.0, f0_x=0.0, f0_y=0.0, h0_x=0.0, h0_y=0.0)\n",
      "---positions---\n",
      "poz '('alice', 71955, 80067)': PositionState(liq=487, fr_x=0.0, fr_y=0.0, hr_x=0.0, hr_y=0.0)\n",
      "poz '('bob', 71955, 76012)': PositionState(liq=487, fr_x=0.0, fr_y=0.0, hr_x=0.0, hr_y=0.0)\n"
     ]
    }
   ],
   "source": [
    "# No HMM\n",
    "from v3_pool import *\n",
    "amm_pool1= Pool(\"ETH\", 18, \"USDC\", 6, bootstrap_rP=2000**0.5,tick_spacing=1,fee_rate=0.003)\n",
    "amm_pool1.deposit(\"alice\",x=2, y=4000, rPa=1333**0.5, rPb=3000**0.5)\n",
    "amm_pool1.deposit(\"bob\",x=0, y=4000, rPa=1333**0.5, rPb=2000**0.5)\n",
    "# amm_pool1.deposit(\"carl\",x=2, y=0, rPa=2001**0.5, rPb=3000**0.5)\n",
    "amm_pool1.show()"
   ]
  },
  {
   "cell_type": "code",
   "execution_count": 19,
   "metadata": {},
   "outputs": [
    {
     "name": "stdout",
     "output_type": "stream",
     "text": [
      "swpd_dX=3.0 swpd_dY=-5259.269141852189 pool_X=4.989435616053443 pool_Y=2737.3699289614533 avg_P=1753.0897139507297, end_P=1546.0510\n",
      "adjusted_dY=0.0  pool_cumul_Y_adj=0.0 total_fee_X=0.008999999999999897  pool_cumul_X_fee=0.008999999999999897\n",
      "\n",
      "GlobalState(L=974.0, rP=39.31985459757468, tick=73438, fg_x=9.240246406570737e-06, fg_y=0.0, hg_x=0.0, hg_y=0.0)\n",
      "real reserves X=4.989435616053443 Y=2737.3699289614533\n",
      "cumulative HMM X_adj=0.0 Y_adj=0.0\n",
      "cumulative swap fees_X=0.008999999999999897 fees_Y=0.0\n",
      "---active ticks---\n",
      "tick '71955': TickState(liq_net=974.0, liq_gross=974.0, f0_x=0.0, f0_y=0.0, h0_x=0.0, h0_y=0.0)\n",
      "tick '80067': TickState(liq_net=-487.0, liq_gross=487.0, f0_x=0, f0_y=0, h0_x=0, h0_y=0)\n",
      "tick '76012': TickState(liq_net=-487.0, liq_gross=487.0, f0_x=0.0, f0_y=0.0, h0_x=0.0, h0_y=0.0)\n",
      "---positions---\n",
      "poz '('alice', 71955, 80067)': PositionState(liq=487, fr_x=0.0, fr_y=0.0, hr_x=0.0, hr_y=0.0)\n",
      "poz '('bob', 71955, 76012)': PositionState(liq=487, fr_x=0.0, fr_y=0.0, hr_x=0.0, hr_y=0.0)\n"
     ]
    }
   ],
   "source": [
    "amm_pool1.execute_swap_from_X(3)\n",
    "amm_pool1.show()\n"
   ]
  },
  {
   "cell_type": "markdown",
   "metadata": {},
   "source": [
    "--------\n",
    "---------\n",
    "# Small trades"
   ]
  },
  {
   "cell_type": "code",
   "execution_count": 29,
   "metadata": {},
   "outputs": [
    {
     "name": "stdout",
     "output_type": "stream",
     "text": [
      "\n",
      "x_debited=0.9995432542396131 y_debited=9999.658642768229\n",
      "including fees_x+adj_x=0.0 and fees_y+adj_y=0.0\n",
      "X returned 99.00045674576039 Y returned 0.34135723177132604\n",
      "\n",
      "GlobalState(L=947.0, rP=99.99995593616806, tick=92108, fg_x=0.0, fg_y=0.0, hg_x=0.0, hg_y=0.0)\n",
      "real reserves X=0.9995432542396131 Y=9999.658642768229\n",
      "cumulative HMM X_adj=0.0 Y_adj=0.0\n",
      "cumulative swap fees_X=0.0 fees_Y=0.0\n",
      "swpd_dX=-1.000001509091394e-09 swpd_dY=1e-05 pool_X=0.9995432532396116 pool_Y=9999.658652768228 avg_P=9999.984909108834, end_P=9999.9912\n",
      "adjusted_dX=0.0  pool_cumul_X_adj=0.0 total_fee_Y=0.0  pool_cumul_Y_fee=0.0\n",
      "\n",
      "GlobalState(L=947.0, rP=99.99995594672772, tick=92108, fg_x=0.0, fg_y=0.0, hg_x=0.0, hg_y=0.0)\n",
      "real reserves X=0.9995432532396116 Y=9999.658652768228\n",
      "cumulative HMM X_adj=0.0 Y_adj=0.0\n",
      "cumulative swap fees_X=0.0 fees_Y=0.0\n"
     ]
    }
   ],
   "source": [
    "from v3_pool import *\n",
    "pool4= Pool(\"HYS\", 12, \"USDC\", 6, bootstrap_rP=10000**0.5,tick_spacing=1)\n",
    "pool4.deposit(\"aly\",x=100, y=10000, rPa=8000**0.5, rPb=12500**0.5)\n",
    "pool4.show(ticks=False,positions=False)\n",
    "pool4.execute_swap_from_Y(0.00001)\n",
    "pool4.show(ticks=False,positions=False)"
   ]
  },
  {
   "cell_type": "code",
   "execution_count": null,
   "metadata": {},
   "outputs": [],
   "source": []
  }
 ],
 "metadata": {
  "interpreter": {
   "hash": "aee8b7b246df8f9039afb4144a1f6fd8d2ca17a180786b69acc140d282b71a49"
  },
  "kernelspec": {
   "display_name": "Python 3.9.7 64-bit",
   "language": "python",
   "name": "python3"
  },
  "language_info": {
   "codemirror_mode": {
    "name": "ipython",
    "version": 3
   },
   "file_extension": ".py",
   "mimetype": "text/x-python",
   "name": "python",
   "nbconvert_exporter": "python",
   "pygments_lexer": "ipython3",
   "version": "3.9.7"
  },
  "orig_nbformat": 4
 },
 "nbformat": 4,
 "nbformat_minor": 2
}
