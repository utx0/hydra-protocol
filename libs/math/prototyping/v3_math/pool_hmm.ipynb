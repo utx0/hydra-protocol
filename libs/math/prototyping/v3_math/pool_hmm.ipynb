{
 "cells": [
  {
   "cell_type": "markdown",
   "metadata": {},
   "source": [
    "-------------\n",
    "-------------\n",
    "-------------\n",
    "## Test HMM"
   ]
  },
  {
   "cell_type": "markdown",
   "metadata": {},
   "source": [
    "To use HMM adjustment, pool needs to be created with 'hmm_C=...\" argument with a value different from 0.\n",
    "Furthermore, at swap time, rP_oracle needs to be provided each time. Any swap where the oracle price is not provided (or set to None), will not have HMM adjustment, even if C is set for the pool and other swaps did have HMM adjustment. "
   ]
  },
  {
   "cell_type": "markdown",
   "metadata": {},
   "source": [
    "-----------\n",
    "-----------\n",
    "1. use setting from \"3.execute_swap_from_X(): breaking up trades\" and compare"
   ]
  },
  {
   "cell_type": "code",
   "execution_count": 1,
   "metadata": {},
   "outputs": [
    {
     "name": "stdout",
     "output_type": "stream",
     "text": [
      "\n",
      "x_debited=1.9984356160534436 y_debited=3998.319535406821\n",
      "including fees_x+adj_x=0.0 and fees_y+adj_y=0.0\n",
      "X returned 0.0015643839465564469 Y returned 1.68046459317884\n"
     ]
    }
   ],
   "source": [
    "# No HMM\n",
    "from v3_pool import *\n",
    "amm_pool1= Pool(\"ETH\", 18, \"USDC\", 6, bootstrap_rP=2000**0.5,tick_spacing=1)\n",
    "amm_pool1.deposit(\"abc\",x=2, y=4000, rPa=1333**0.5, rPb=3000**0.5)"
   ]
  },
  {
   "cell_type": "code",
   "execution_count": 2,
   "metadata": {},
   "outputs": [
    {
     "name": "stdout",
     "output_type": "stream",
     "text": [
      "\n",
      "x_debited=1.9984356160534436 y_debited=3998.319535406821\n",
      "including fees_x+adj_x=0.0 and fees_y+adj_y=0.0\n",
      "X returned 0.0015643839465564469 Y returned 1.68046459317884\n"
     ]
    }
   ],
   "source": [
    "# With HMM\n",
    "hmm_pool1= Pool(\"ETH\", 18, \"USDC\", 6, bootstrap_rP=2000**0.5,tick_spacing=1,hmm_C=1.5)\n",
    "hmm_pool1.deposit(\"abc\",x=2, y=4000, rPa=1333**0.5, rPb=3000**0.5)"
   ]
  },
  {
   "cell_type": "code",
   "execution_count": 3,
   "metadata": {},
   "outputs": [
    {
     "name": "stdout",
     "output_type": "stream",
     "text": [
      "Gap in liquidity... trying to get in range...\n",
      "no more active ticks (liquidity) in this direction\n",
      "swpd_dX=2.4489254304363857 swpd_dY=-3998.3194954236255 pool_X=4.44736104648983 pool_Y=3.99831956201524e-05 avg_P=1632.6832, end_P=1332.9373\n",
      "adjusted_dY=0.0  pool_cumul_Y_adj=0.0 total_fee_X=0.0  pool_cumul_X_fee=0.0\n"
     ]
    },
    {
     "data": {
      "text/plain": [
       "(2.4489254304363857,\n",
       " -3998.3194954236255,\n",
       " 0.0,\n",
       " 0.0,\n",
       " 1632.683235565546,\n",
       " 1332.9372555720715)"
      ]
     },
     "execution_count": 3,
     "metadata": {},
     "output_type": "execute_result"
    }
   ],
   "source": [
    "amm_pool1.execute_swap_from_X(3)"
   ]
  },
  {
   "cell_type": "code",
   "execution_count": 4,
   "metadata": {},
   "outputs": [
    {
     "name": "stdout",
     "output_type": "stream",
     "text": [
      "Gap in liquidity... trying to get in range...\n",
      "no more active ticks (liquidity) in this direction\n",
      "swpd_dX=2.4489254304363857 swpd_dY=-3698.234745905556 pool_X=4.44736104648983 pool_Y=3.99831956201524e-05 avg_P=1510.1459, end_P=1332.9373\n",
      "adjusted_dY=300.08474951806966  pool_cumul_Y_adj=300.08474951806966 total_fee_X=0.0  pool_cumul_X_fee=0.0\n"
     ]
    },
    {
     "data": {
      "text/plain": [
       "(2.4489254304363857,\n",
       " -3698.234745905556,\n",
       " 300.08474951806966,\n",
       " 0.0,\n",
       " 1510.1459194886754,\n",
       " 1332.9372555720715)"
      ]
     },
     "execution_count": 4,
     "metadata": {},
     "output_type": "execute_result"
    }
   ],
   "source": [
    "hmm_pool1.execute_swap_from_X(3, rP_oracle=1500**0.5)"
   ]
  },
  {
   "cell_type": "code",
   "execution_count": 5,
   "metadata": {},
   "outputs": [
    {
     "name": "stdout",
     "output_type": "stream",
     "text": [
      "Gap in liquidity... trying to get in range...\n",
      "swpd_dX=-2.4271245021022123 swpd_dY=3955.0 pool_X=2.0202365443876174 pool_Y=3955.0000399831956 avg_P=1629.5003, end_P=1991.8521\n",
      "adjusted_dX=0.0  pool_cumul_X_adj=0.0 total_fee_Y=0.0  pool_cumul_Y_fee=0.0\n"
     ]
    },
    {
     "data": {
      "text/plain": [
       "(-2.4271245021022123, 3955.0, 0.0, 0.0, 1629.500257022021, 1991.852054030278)"
      ]
     },
     "execution_count": 5,
     "metadata": {},
     "output_type": "execute_result"
    }
   ],
   "source": [
    "amm_pool1.execute_swap_from_Y(3955) # even with oracle price give, no adj as C=0"
   ]
  },
  {
   "cell_type": "code",
   "execution_count": 6,
   "metadata": {},
   "outputs": [
    {
     "name": "stdout",
     "output_type": "stream",
     "text": [
      "Gap in liquidity... trying to get in range...\n",
      "swpd_dX=-2.293367631363975 swpd_dY=3955.0 pool_X=2.0202365443876174 pool_Y=3955.0000399831956 avg_P=1724.5382, end_P=1991.8521\n",
      "adjusted_dX=0.1337568707382375  pool_cumul_X_adj=0.1337568707382375 total_fee_Y=0.0  pool_cumul_Y_fee=0.0\n"
     ]
    },
    {
     "data": {
      "text/plain": [
       "(-2.293367631363975,\n",
       " 3955.0,\n",
       " 0.1337568707382375,\n",
       " 0.0,\n",
       " 1724.5381620947417,\n",
       " 1991.852054030278)"
      ]
     },
     "execution_count": 6,
     "metadata": {},
     "output_type": "execute_result"
    }
   ],
   "source": [
    "hmm_pool1.execute_swap_from_Y(3955, rP_oracle=1700**0.5)"
   ]
  },
  {
   "cell_type": "code",
   "execution_count": 7,
   "metadata": {},
   "outputs": [],
   "source": [
    "# amm_pool1.show()"
   ]
  },
  {
   "cell_type": "code",
   "execution_count": 8,
   "metadata": {},
   "outputs": [],
   "source": [
    "# hmm_pool1.show()\n",
    "assert hmm_pool1.X == amm_pool1.X, hmm_pool1.Y == amm_pool1.Y\n",
    "assert hmm_pool1.global_state.rP == amm_pool1.global_state.rP\n",
    "# assert hmm_pool1.X_adj> 0 ,hmm_pool1.Y_adj> 0"
   ]
  },
  {
   "cell_type": "markdown",
   "metadata": {},
   "source": [
    "-------------\n",
    "-------------\n",
    "-------------\n",
    "## Add fees"
   ]
  },
  {
   "cell_type": "code",
   "execution_count": 9,
   "metadata": {},
   "outputs": [
    {
     "name": "stdout",
     "output_type": "stream",
     "text": [
      "\n",
      "x_debited=1.9984356160534436 y_debited=3998.319535406821\n",
      "including fees_x+adj_x=0.0 and fees_y+adj_y=0.0\n",
      "X returned 0.0015643839465564469 Y returned 1.68046459317884\n",
      "\n",
      "GlobalState(L=487.0, rP=44.71951496148113, tick=76012, fg_x=0.0, fg_y=0.0, hg_x=0.0, hg_y=0.0)\n",
      "real reserves X=1.9984356160534436 Y=3998.319535406821\n",
      "cumulative HMM X_adj=0.0 Y_adj=0.0\n",
      "cumulative swap fees_X=0.0 fees_Y=0.0\n",
      "---active ticks---\n",
      "tick '71955': TickState(liq_net=487.0, liq_gross=487.0, f0_x=0.0, f0_y=0.0, h0_x=0.0, h0_y=0.0)\n",
      "tick '80067': TickState(liq_net=-487.0, liq_gross=487.0, f0_x=0, f0_y=0, h0_x=0, h0_y=0)\n",
      "---positions---\n",
      "poz '('alice', 71955, 80067)': PositionState(liq=487, fr_x=0.0, fr_y=0.0, hr_x=0.0, hr_y=0.0)\n"
     ]
    }
   ],
   "source": [
    "# No HMM\n",
    "from v3_pool import *\n",
    "amm_pool1= Pool(\"ETH\", 18, \"USDC\", 6, bootstrap_rP=2000**0.5,tick_spacing=1,fee_rate=0.003)\n",
    "amm_pool1.deposit(\"alice\",x=2, y=4000, rPa=1333**0.5, rPb=3000**0.5)\n",
    "# amm_pool1.deposit(\"bob\",x=0, y=2000, rPa=1000**0.5, rPb=1300**0.5)\n",
    "amm_pool1.show()"
   ]
  },
  {
   "cell_type": "code",
   "execution_count": 10,
   "metadata": {},
   "outputs": [
    {
     "name": "stdout",
     "output_type": "stream",
     "text": [
      "\n",
      "x_debited=1.9984356160534436 y_debited=3998.319535406821\n",
      "including fees_x+adj_x=0.0 and fees_y+adj_y=0.0\n",
      "X returned 0.0015643839465564469 Y returned 1.68046459317884\n",
      "\n",
      "GlobalState(L=487.0, rP=44.71951496148113, tick=76012, fg_x=0.0, fg_y=0.0, hg_x=0.0, hg_y=0.0)\n",
      "real reserves X=1.9984356160534436 Y=3998.319535406821\n",
      "cumulative HMM X_adj=0.0 Y_adj=0.0\n",
      "cumulative swap fees_X=0.0 fees_Y=0.0\n",
      "---active ticks---\n",
      "tick '71955': TickState(liq_net=487.0, liq_gross=487.0, f0_x=0.0, f0_y=0.0, h0_x=0.0, h0_y=0.0)\n",
      "tick '80067': TickState(liq_net=-487.0, liq_gross=487.0, f0_x=0, f0_y=0, h0_x=0, h0_y=0)\n",
      "---positions---\n",
      "poz '('alice', 71955, 80067)': PositionState(liq=487, fr_x=0.0, fr_y=0.0, hr_x=0.0, hr_y=0.0)\n"
     ]
    }
   ],
   "source": [
    "# With HMM\n",
    "hmm_pool1= Pool(\"ETH\", 18, \"USDC\", 6, bootstrap_rP=2000**0.5,tick_spacing=1,fee_rate=0.003,hmm_C=1.5)\n",
    "hmm_pool1.deposit(\"alice\",x=2, y=4000, rPa=1333**0.5, rPb=3000**0.5)\n",
    "# hmm_pool1.deposit(\"bob\",x=0, y=2000, rPa=1000**0.5, rPb=1300**0.5)\n",
    "hmm_pool1.show()"
   ]
  },
  {
   "cell_type": "code",
   "execution_count": 11,
   "metadata": {},
   "outputs": [
    {
     "name": "stdout",
     "output_type": "stream",
     "text": [
      "Gap in liquidity... trying to get in range...\n",
      "no more active ticks (liquidity) in this direction\n",
      "swpd_dX=2.456294313376515 swpd_dY=-3998.3194954236255 pool_X=4.44736104648983 pool_Y=3.99831956201524e-05 avg_P=1627.7852, end_P=1332.9373\n",
      "adjusted_dY=0.0  pool_cumul_Y_adj=0.0 total_fee_X=0.007368882940129546  pool_cumul_X_fee=0.007368882940129546\n",
      "\n",
      "GlobalState(L=0.0, rP=36.509413246066714, tick=71954, fg_x=1.5131176468438493e-05, fg_y=0.0, hg_x=0.0, hg_y=0.0)\n",
      "real reserves X=4.44736104648983 Y=3.99831956201524e-05\n",
      "cumulative HMM X_adj=0.0 Y_adj=0.0\n",
      "cumulative swap fees_X=0.007368882940129546 fees_Y=0.0\n",
      "---active ticks---\n",
      "tick '71955': TickState(liq_net=487.0, liq_gross=487.0, f0_x=1.5131176468438493e-05, f0_y=0.0, h0_x=0.0, h0_y=0.0)\n",
      "tick '80067': TickState(liq_net=-487.0, liq_gross=487.0, f0_x=0, f0_y=0, h0_x=0, h0_y=0)\n",
      "---positions---\n",
      "poz '('alice', 71955, 80067)': PositionState(liq=487, fr_x=0.0, fr_y=0.0, hr_x=0.0, hr_y=0.0)\n"
     ]
    }
   ],
   "source": [
    "amm_pool1.execute_swap_from_X(3)\n",
    "# amm_pool1.deposit(\"alice\",x=1, y=2000, rPa=1333**0.5, rPb=3000**0.5)\n",
    "amm_pool1.show()\n"
   ]
  },
  {
   "cell_type": "code",
   "execution_count": 12,
   "metadata": {},
   "outputs": [
    {
     "name": "stdout",
     "output_type": "stream",
     "text": [
      "Gap in liquidity... trying to get in range...\n",
      "no more active ticks (liquidity) in this direction\n",
      "swpd_dX=2.456294313376515 swpd_dY=-3698.234745905556 pool_X=4.44736104648983 pool_Y=3.99831956201524e-05 avg_P=1505.6155, end_P=1332.9373\n",
      "adjusted_dY=300.08474951806966  pool_cumul_Y_adj=300.08474951806966 total_fee_X=0.007368882940129546  pool_cumul_X_fee=0.007368882940129546\n",
      "\n",
      "GlobalState(L=0.0, rP=36.509413246066714, tick=71954, fg_x=1.5131176468438493e-05, fg_y=0.0, hg_x=0.0, hg_y=0.6161904507557898)\n",
      "real reserves X=4.44736104648983 Y=3.99831956201524e-05\n",
      "cumulative HMM X_adj=0.0 Y_adj=300.08474951806966\n",
      "cumulative swap fees_X=0.007368882940129546 fees_Y=0.0\n",
      "---positions---\n",
      "poz '('alice', 71955, 80067)': PositionState(liq=487, fr_x=0.0, fr_y=0.0, hr_x=0.0, hr_y=0.0)\n"
     ]
    }
   ],
   "source": [
    "hmm_pool1.execute_swap_from_X(3, rP_oracle=1500**0.5)\n",
    "# hmm_pool1.deposit(\"alice\",x=1, y=2000, rPa=1333**0.5, rPb=3000**0.5)\n",
    "hmm_pool1.show(ticks=False)\n"
   ]
  },
  {
   "cell_type": "code",
   "execution_count": 13,
   "metadata": {},
   "outputs": [
    {
     "name": "stdout",
     "output_type": "stream",
     "text": [
      "Gap in liquidity... trying to get in range...\n",
      "swpd_dX=-2.421121606035253 swpd_dY=3955.0 pool_X=2.0262394404545767 pool_Y=3943.1350399831954 avg_P=1633.5404, end_P=1989.6623\n",
      "adjusted_dX=0.0  pool_cumul_X_adj=0.0 total_fee_Y=11.865000000000236  pool_cumul_Y_fee=11.865000000000236\n",
      "\n",
      "GlobalState(L=487.0, rP=44.60563115598445, tick=75961, fg_x=1.5131176468438493e-05, fg_y=0.02436344969199227, hg_x=0.0, hg_y=0.0)\n",
      "real reserves X=2.0262394404545767 Y=3943.1350399831954\n",
      "cumulative HMM X_adj=0.0 Y_adj=0.0\n",
      "cumulative swap fees_X=0.007368882940129546 fees_Y=11.865000000000236\n",
      "---positions---\n",
      "poz '('alice', 71955, 80067)': PositionState(liq=487, fr_x=0.0, fr_y=0.0, hr_x=0.0, hr_y=0.0)\n",
      "\n",
      "x_sent=2.0336082991834896 y_sent=3954.723122129936\n",
      "including fees_x+adj_x=0.007368882940129546 & fees_y+adj_y=11.865000000000236\n",
      "\n",
      "GlobalState(L=0.0, rP=44.60563115598445, tick=75961, fg_x=1.5131176468438493e-05, fg_y=0.02436344969199227, hg_x=0.0, hg_y=0.0)\n",
      "real reserves X=2.4211216587133322e-08 Y=0.27691785325941964\n",
      "cumulative HMM X_adj=0.0 Y_adj=0.0\n",
      "cumulative swap fees_X=0.0 fees_Y=0.0\n",
      "---positions---\n"
     ]
    }
   ],
   "source": [
    "amm_pool1.execute_swap_from_Y(3955) # even with oracle price give, no adj as C=0\n",
    "amm_pool1.show(ticks=False)\n",
    "amm_pool1.withdraw('alice', 487, rPa=1333**0.5, rPb=3000**0.5)\n",
    "# amm_pool1.withdraw('bob', 451, rPa=1000**0.5, rPb=1300**0.5)\n",
    "amm_pool1.show(ticks=False)"
   ]
  },
  {
   "cell_type": "code",
   "execution_count": 14,
   "metadata": {},
   "outputs": [
    {
     "name": "stdout",
     "output_type": "stream",
     "text": [
      "Gap in liquidity... trying to get in range...\n",
      "swpd_dX=-2.2873647352970155 swpd_dY=3955.0 pool_X=2.0262394404545767 pool_Y=3943.1350399831954 avg_P=1729.0640, end_P=1989.6623\n",
      "adjusted_dX=0.1337568707382375  pool_cumul_X_adj=0.1337568707382375 total_fee_Y=11.865000000000236  pool_cumul_Y_fee=11.865000000000236\n",
      "\n",
      "GlobalState(L=487.0, rP=44.60563115598445, tick=75961, fg_x=1.5131176468438493e-05, fg_y=0.02436344969199227, hg_x=0.0002746547653762577, hg_y=0.6161904507557898)\n",
      "real reserves X=2.0262394404545767 Y=3943.1350399831954\n",
      "cumulative HMM X_adj=0.1337568707382375 Y_adj=300.08474951806966\n",
      "cumulative swap fees_X=0.007368882940129546 fees_Y=11.865000000000236\n",
      "---positions---\n",
      "poz '('alice', 71955, 80067)': PositionState(liq=487, fr_x=0.0, fr_y=0.0, hr_x=0.0, hr_y=0.0)\n",
      "\n",
      "x_sent=2.167365169921727 y_sent=4254.807871648006\n",
      "including fees_x+adj_x=0.14112575367836705 & fees_y+adj_y=311.9497495180699\n",
      "\n",
      "GlobalState(L=0.0, rP=44.60563115598445, tick=75961, fg_x=1.5131176468438493e-05, fg_y=0.02436344969199227, hg_x=0.0002746547653762577, hg_y=0.6161904507557898)\n",
      "real reserves X=2.4211216587133322e-08 Y=0.27691785325941964\n",
      "cumulative HMM X_adj=0.0 Y_adj=0.0\n",
      "cumulative swap fees_X=0.0 fees_Y=0.0\n",
      "---positions---\n"
     ]
    }
   ],
   "source": [
    "hmm_pool1.execute_swap_from_Y(3955, rP_oracle=1700**0.5)\n",
    "hmm_pool1.show(ticks=False)\n",
    "hmm_pool1.withdraw('alice', 487, rPa=1333**0.5, rPb=3000**0.5)\n",
    "# hmm_pool1.withdraw('bob', 451, rPa=1000**0.5, rPb=1300**0.5)\n",
    "hmm_pool1.show(ticks=False)"
   ]
  },
  {
   "cell_type": "markdown",
   "metadata": {},
   "source": [
    "-------------\n",
    "-------------\n",
    "-------------\n",
    "## Infinite loop"
   ]
  },
  {
   "cell_type": "code",
   "execution_count": 39,
   "metadata": {},
   "outputs": [
    {
     "name": "stdout",
     "output_type": "stream",
     "text": [
      "\n",
      "x_debited=1.9984356160534436 y_debited=3998.319535406821\n",
      "including fees_x+adj_x=0.0 and fees_y+adj_y=0.0\n",
      "X returned 0.0015643839465564469 Y returned 1.68046459317884\n",
      "\n",
      "x_debited=0.0 y_debited=3998.319535406821\n",
      "including fees_x+adj_x=0.0 and fees_y+adj_y=0.0\n",
      "X returned 0.0 Y returned 1.68046459317884\n",
      "\n",
      "x_debited=1.9998115418382896 y_debited=0.0\n",
      "including fees_x+adj_x=0.0 and fees_y+adj_y=0.0\n",
      "X returned 0.0001884581617104253 Y returned 0.0\n",
      "\n",
      "GlobalState(L=487.0, rP=44.71951496148113, tick=76012, fg_x=0.0, fg_y=0.0, hg_x=0.0, hg_y=0.0)\n",
      "real reserves X=3.998247157891733 Y=7996.639070813642\n",
      "cumulative HMM X_adj=0.0 Y_adj=0.0\n",
      "cumulative swap fees_X=0.0 fees_Y=0.0\n",
      "---active ticks---\n",
      "tick '71955': TickState(liq_net=974.0, liq_gross=974.0, f0_x=0.0, f0_y=0.0, h0_x=0.0, h0_y=0.0)\n",
      "tick '80067': TickState(liq_net=-975.0, liq_gross=975.0, f0_x=0, f0_y=0, h0_x=0, h0_y=0)\n",
      "tick '76012': TickState(liq_net=-487.0, liq_gross=487.0, f0_x=0.0, f0_y=0.0, h0_x=0.0, h0_y=0.0)\n",
      "tick '76017': TickState(liq_net=488.0, liq_gross=488.0, f0_x=0, f0_y=0, h0_x=0, h0_y=0)\n",
      "---positions---\n",
      "poz '('alice', 71955, 80067)': PositionState(liq=487, fr_x=0.0, fr_y=0.0, hr_x=0.0, hr_y=0.0)\n",
      "poz '('bob', 71955, 76012)': PositionState(liq=487, fr_x=0.0, fr_y=0.0, hr_x=0.0, hr_y=0.0)\n",
      "poz '('carl', 76017, 80067)': PositionState(liq=488, fr_x=0.0, fr_y=0.0, hr_x=0.0, hr_y=0.0)\n"
     ]
    }
   ],
   "source": [
    "# No HMM\n",
    "from v3_pool import *\n",
    "amm_pool1= Pool(\"ETH\", 18, \"USDC\", 6, bootstrap_rP=2000**0.5,tick_spacing=1,fee_rate=0.003)\n",
    "amm_pool1.deposit(\"alice\",x=2, y=4000, rPa=1333**0.5, rPb=3000**0.5)\n",
    "amm_pool1.deposit(\"bob\",x=0, y=4000, rPa=1333**0.5, rPb=2000**0.5)\n",
    "amm_pool1.deposit(\"carl\",x=2, y=0, rPa=2001**0.5, rPb=3000**0.5)\n",
    "amm_pool1.show()"
   ]
  },
  {
   "cell_type": "code",
   "execution_count": 40,
   "metadata": {},
   "outputs": [
    {
     "name": "stdout",
     "output_type": "stream",
     "text": [
      "swpd_dX=3.0 swpd_dY=-5257.859100436026 pool_X=6.989247157891733 pool_Y=2738.7799703776163 avg_P=1752.6197, end_P=1546.1648\n",
      "adjusted_dY=0.0  pool_cumul_Y_adj=0.0 total_fee_X=0.008999999999999897  pool_cumul_X_fee=0.008999999999999897\n",
      "\n",
      "GlobalState(L=974.0, rP=39.32130227871458, tick=73439, fg_x=9.240246406570737e-06, fg_y=0.0, hg_x=0.0, hg_y=0.0)\n",
      "real reserves X=6.989247157891733 Y=2738.7799703776163\n",
      "cumulative HMM X_adj=0.0 Y_adj=0.0\n",
      "cumulative swap fees_X=0.008999999999999897 fees_Y=0.0\n",
      "---active ticks---\n",
      "tick '71955': TickState(liq_net=974.0, liq_gross=974.0, f0_x=0.0, f0_y=0.0, h0_x=0.0, h0_y=0.0)\n",
      "tick '80067': TickState(liq_net=-975.0, liq_gross=975.0, f0_x=0, f0_y=0, h0_x=0, h0_y=0)\n",
      "tick '76012': TickState(liq_net=-487.0, liq_gross=487.0, f0_x=0.0, f0_y=0.0, h0_x=0.0, h0_y=0.0)\n",
      "tick '76017': TickState(liq_net=488.0, liq_gross=488.0, f0_x=0, f0_y=0, h0_x=0, h0_y=0)\n",
      "---positions---\n",
      "poz '('alice', 71955, 80067)': PositionState(liq=487, fr_x=0.0, fr_y=0.0, hr_x=0.0, hr_y=0.0)\n",
      "poz '('bob', 71955, 76012)': PositionState(liq=487, fr_x=0.0, fr_y=0.0, hr_x=0.0, hr_y=0.0)\n",
      "poz '('carl', 76017, 80067)': PositionState(liq=488, fr_x=0.0, fr_y=0.0, hr_x=0.0, hr_y=0.0)\n"
     ]
    }
   ],
   "source": [
    "amm_pool1.execute_swap_from_X(3)\n",
    "amm_pool1.show()\n"
   ]
  }
 ],
 "metadata": {
  "interpreter": {
   "hash": "aee8b7b246df8f9039afb4144a1f6fd8d2ca17a180786b69acc140d282b71a49"
  },
  "kernelspec": {
   "display_name": "Python 3.9.7 64-bit",
   "language": "python",
   "name": "python3"
  },
  "language_info": {
   "codemirror_mode": {
    "name": "ipython",
    "version": 3
   },
   "file_extension": ".py",
   "mimetype": "text/x-python",
   "name": "python",
   "nbconvert_exporter": "python",
   "pygments_lexer": "ipython3",
   "version": "3.9.7"
  },
  "orig_nbformat": 4
 },
 "nbformat": 4,
 "nbformat_minor": 2
}
