{
 "cells": [
  {
   "cell_type": "markdown",
   "metadata": {},
   "source": [
    "-------------\n",
    "-------------\n",
    "-------------\n",
    "## Test HMM"
   ]
  },
  {
   "cell_type": "markdown",
   "metadata": {},
   "source": [
    "To use HMM adjustment, pool needs to be created with 'hmm_C=...\" argument with a value different from 0.\n",
    "Furthermore, at swap time, rP_oracle needs to be provided each time. Any swap where the oracle price is not provided (or set to None), will not have HMM adjustment, even if C is set for the pool and other swaps did have HMM adjustment. "
   ]
  },
  {
   "cell_type": "markdown",
   "metadata": {},
   "source": [
    "-----------\n",
    "-----------\n",
    "1. use setting from \"3.execute_swap_from_X(): breaking up trades\" and compare"
   ]
  },
  {
   "cell_type": "code",
   "execution_count": 84,
   "metadata": {},
   "outputs": [
    {
     "name": "stdout",
     "output_type": "stream",
     "text": [
      "\n",
      "x_debited=1.9979864402233023 y_debited=3999.217850013463\n",
      "including fees_x+adj_x=0.0 and fees_y+adj_y=0.0\n",
      "X returned 0.0020135597766977043 Y returned 0.7821499865372061\n"
     ]
    }
   ],
   "source": [
    "# No HMM\n",
    "from v3_pool import *\n",
    "amm_pool1= Pool(\"ETH\", 18, \"USDC\", 6, bootstrap_rP=2000**0.5,tick_spacing=1)\n",
    "amm_pool1.deposit(\"abc\",x=2, y=4000, rPa=1333**0.5, rPb=3000**0.5)"
   ]
  },
  {
   "cell_type": "code",
   "execution_count": 85,
   "metadata": {},
   "outputs": [
    {
     "name": "stdout",
     "output_type": "stream",
     "text": [
      "\n",
      "x_debited=1.9979864402233023 y_debited=3999.217850013463\n",
      "including fees_x+adj_x=0.0 and fees_y+adj_y=0.0\n",
      "X returned 0.0020135597766977043 Y returned 0.7821499865372061\n"
     ]
    }
   ],
   "source": [
    "# With HMM\n",
    "hmm_pool1= Pool(\"ETH\", 18, \"USDC\", 6, bootstrap_rP=2000**0.5,tick_spacing=1,hmm_C=1.5)\n",
    "hmm_pool1.deposit(\"abc\",x=2, y=4000, rPa=1333**0.5, rPb=3000**0.5)"
   ]
  },
  {
   "cell_type": "code",
   "execution_count": 86,
   "metadata": {},
   "outputs": [
    {
     "name": "stdout",
     "output_type": "stream",
     "text": [
      "Gap in liquidity... trying to get in range...\n",
      "no more active ticks (liquidity) in this direction\n",
      "swpd_dX=2.4493746062665265 swpd_dY=-3999.217810021284 pool_X=4.447361046489829 pool_Y=3.999217869932181e-05 avg_P=1632.7506, end_P=1332.9373\n",
      "adjusted_dY=0.0  pool_cumul_Y_adj=0.0 total_fee_X=0.0  pool_cumul_X_fee=0.0\n"
     ]
    },
    {
     "data": {
      "text/plain": [
       "(2.4493746062665265,\n",
       " -3999.217810021284,\n",
       " 0.0,\n",
       " 0.0,\n",
       " 1632.7505804092234,\n",
       " 1332.9372555720715)"
      ]
     },
     "execution_count": 86,
     "metadata": {},
     "output_type": "execute_result"
    }
   ],
   "source": [
    "amm_pool1.execute_swap_from_X(3)"
   ]
  },
  {
   "cell_type": "code",
   "execution_count": 87,
   "metadata": {},
   "outputs": [
    {
     "name": "stdout",
     "output_type": "stream",
     "text": [
      "Gap in liquidity... trying to get in range...\n",
      "no more active ticks (liquidity) in this direction\n",
      "swpd_dX=2.4493746062665265 swpd_dY=-3699.127639755833 pool_X=4.447361046489829 pool_Y=3.999217869932181e-05 avg_P=1510.2335, end_P=1332.9373\n",
      "adjusted_dY=300.090170265451  pool_cumul_Y_adj=300.090170265451 total_fee_X=0.0  pool_cumul_X_fee=0.0\n"
     ]
    },
    {
     "data": {
      "text/plain": [
       "(2.4493746062665265,\n",
       " -3699.127639755833,\n",
       " 300.090170265451,\n",
       " 0.0,\n",
       " 1510.2335225865063,\n",
       " 1332.9372555720715)"
      ]
     },
     "execution_count": 87,
     "metadata": {},
     "output_type": "execute_result"
    }
   ],
   "source": [
    "hmm_pool1.execute_swap_from_X(3, rP_oracle=1500**0.5)"
   ]
  },
  {
   "cell_type": "code",
   "execution_count": 88,
   "metadata": {},
   "outputs": [
    {
     "name": "stdout",
     "output_type": "stream",
     "text": [
      "Gap in liquidity... trying to get in range...\n",
      "swpd_dX=-2.427220678596034 swpd_dY=3955.0 pool_X=2.0201403678937946 pool_Y=3955.0000399921787 avg_P=1629.4357, end_P=1991.8872\n",
      "adjusted_dX=0.0  pool_cumul_X_adj=0.0 total_fee_Y=0.0  pool_cumul_Y_fee=0.0\n"
     ]
    },
    {
     "data": {
      "text/plain": [
       "(-2.427220678596034, 3955.0, 0.0, 0.0, 1629.4356895013238, 1991.8871664967744)"
      ]
     },
     "execution_count": 88,
     "metadata": {},
     "output_type": "execute_result"
    }
   ],
   "source": [
    "amm_pool1.execute_swap_from_Y(3955) # even with oracle price give, no adj as C=0"
   ]
  },
  {
   "cell_type": "code",
   "execution_count": 89,
   "metadata": {},
   "outputs": [
    {
     "name": "stdout",
     "output_type": "stream",
     "text": [
      "Gap in liquidity... trying to get in range...\n",
      "swpd_dX=-2.293405862075104 swpd_dY=3955.0 pool_X=2.0201403678937946 pool_Y=3955.0000399921787 avg_P=1724.5094, end_P=1991.8872\n",
      "adjusted_dX=0.13381481652093008  pool_cumul_X_adj=0.13381481652093008 total_fee_Y=0.0  pool_cumul_Y_fee=0.0\n"
     ]
    },
    {
     "data": {
      "text/plain": [
       "(-2.293405862075104,\n",
       " 3955.0,\n",
       " 0.13381481652093008,\n",
       " 0.0,\n",
       " 1724.509414317736,\n",
       " 1991.8871664967744)"
      ]
     },
     "execution_count": 89,
     "metadata": {},
     "output_type": "execute_result"
    }
   ],
   "source": [
    "hmm_pool1.execute_swap_from_Y(3955, rP_oracle=1700**0.5)"
   ]
  },
  {
   "cell_type": "code",
   "execution_count": 90,
   "metadata": {},
   "outputs": [],
   "source": [
    "# amm_pool1.show()"
   ]
  },
  {
   "cell_type": "code",
   "execution_count": 91,
   "metadata": {},
   "outputs": [],
   "source": [
    "# hmm_pool1.show()\n",
    "assert hmm_pool1.X == amm_pool1.X, hmm_pool1.Y == amm_pool1.Y\n",
    "assert hmm_pool1.global_state.rP == amm_pool1.global_state.rP\n",
    "# assert hmm_pool1.X_adj> 0 ,hmm_pool1.Y_adj> 0"
   ]
  },
  {
   "cell_type": "markdown",
   "metadata": {},
   "source": [
    "-------------\n",
    "-------------\n",
    "-------------\n",
    "## Add fees"
   ]
  },
  {
   "cell_type": "code",
   "execution_count": 92,
   "metadata": {},
   "outputs": [
    {
     "name": "stdout",
     "output_type": "stream",
     "text": [
      "\n",
      "x_debited=1.9979864402233023 y_debited=3999.217850013463\n",
      "including fees_x+adj_x=0.0 and fees_y+adj_y=0.0\n",
      "X returned 0.0020135597766977043 Y returned 0.7821499865372061\n",
      "\n",
      "GlobalState(L=487.0, rP=44.721359549995796, tick=76012, fg_x=0.0, fg_y=0.0, hg_x=0.0, hg_y=0.0)\n",
      "real reserves X=1.9979864402233023 Y=3999.217850013463\n",
      "cumulative HMM X_adj=0.0 Y_adj=0.0\n",
      "cumulative swap fees_X=0.0 fees_Y=0.0\n",
      "---active ticks---\n",
      "tick '71955': TickState(liq_net=487.0, liq_gross=487.0, f0_x=0.0, f0_y=0.0, h0_x=0.0, h0_y=0.0)\n",
      "tick '80067': TickState(liq_net=-487.0, liq_gross=487.0, f0_x=0, f0_y=0, h0_x=0, h0_y=0)\n",
      "---positions---\n",
      "poz '('alice', 71955, 80067)': PositionState(liq=487, fr_x=0.0, fr_y=0.0, hr_x=0.0, hr_y=0.0)\n"
     ]
    }
   ],
   "source": [
    "# No HMM\n",
    "from v3_pool import *\n",
    "amm_pool1= Pool(\"ETH\", 18, \"USDC\", 6, bootstrap_rP=2000**0.5,tick_spacing=1,fee_rate=0.003)\n",
    "amm_pool1.deposit(\"alice\",x=2, y=4000, rPa=1333**0.5, rPb=3000**0.5)\n",
    "# amm_pool1.deposit(\"bob\",x=0, y=2000, rPa=1000**0.5, rPb=1300**0.5)\n",
    "amm_pool1.show()"
   ]
  },
  {
   "cell_type": "code",
   "execution_count": 93,
   "metadata": {},
   "outputs": [
    {
     "name": "stdout",
     "output_type": "stream",
     "text": [
      "\n",
      "x_debited=1.9979864402233023 y_debited=3999.217850013463\n",
      "including fees_x+adj_x=0.0 and fees_y+adj_y=0.0\n",
      "X returned 0.0020135597766977043 Y returned 0.7821499865372061\n",
      "\n",
      "GlobalState(L=487.0, rP=44.721359549995796, tick=76012, fg_x=0.0, fg_y=0.0, hg_x=0.0, hg_y=0.0)\n",
      "real reserves X=1.9979864402233023 Y=3999.217850013463\n",
      "cumulative HMM X_adj=0.0 Y_adj=0.0\n",
      "cumulative swap fees_X=0.0 fees_Y=0.0\n",
      "---active ticks---\n",
      "tick '71955': TickState(liq_net=487.0, liq_gross=487.0, f0_x=0.0, f0_y=0.0, h0_x=0.0, h0_y=0.0)\n",
      "tick '80067': TickState(liq_net=-487.0, liq_gross=487.0, f0_x=0, f0_y=0, h0_x=0, h0_y=0)\n",
      "---positions---\n",
      "poz '('alice', 71955, 80067)': PositionState(liq=487, fr_x=0.0, fr_y=0.0, hr_x=0.0, hr_y=0.0)\n"
     ]
    }
   ],
   "source": [
    "# With HMM\n",
    "hmm_pool1= Pool(\"ETH\", 18, \"USDC\", 6, bootstrap_rP=2000**0.5,tick_spacing=1,fee_rate=0.003,hmm_C=1.5)\n",
    "hmm_pool1.deposit(\"alice\",x=2, y=4000, rPa=1333**0.5, rPb=3000**0.5)\n",
    "# hmm_pool1.deposit(\"bob\",x=0, y=2000, rPa=1000**0.5, rPb=1300**0.5)\n",
    "hmm_pool1.show()"
   ]
  },
  {
   "cell_type": "code",
   "execution_count": 94,
   "metadata": {},
   "outputs": [
    {
     "name": "stdout",
     "output_type": "stream",
     "text": [
      "Gap in liquidity... trying to get in range...\n",
      "no more active ticks (liquidity) in this direction\n",
      "swpd_dX=2.456744840788893 swpd_dY=-3999.217810021284 pool_X=4.447361046489829 pool_Y=3.999217869932181e-05 avg_P=1627.8523, end_P=1332.9373\n",
      "adjusted_dY=0.0  pool_cumul_Y_adj=0.0 total_fee_X=0.00737023452236668  pool_cumul_X_fee=0.00737023452236668\n",
      "\n",
      "GlobalState(L=0.0, rP=36.509413246066714, tick=71954, fg_x=1.5133951791307351e-05, fg_y=0.0, hg_x=0.0, hg_y=0.0)\n",
      "real reserves X=4.447361046489829 Y=3.999217869932181e-05\n",
      "cumulative HMM X_adj=0.0 Y_adj=0.0\n",
      "cumulative swap fees_X=0.00737023452236668 fees_Y=0.0\n",
      "---active ticks---\n",
      "tick '71955': TickState(liq_net=487.0, liq_gross=487.0, f0_x=1.5133951791307351e-05, f0_y=0.0, h0_x=0.0, h0_y=0.0)\n",
      "tick '80067': TickState(liq_net=-487.0, liq_gross=487.0, f0_x=0, f0_y=0, h0_x=0, h0_y=0)\n",
      "---positions---\n",
      "poz '('alice', 71955, 80067)': PositionState(liq=487, fr_x=0.0, fr_y=0.0, hr_x=0.0, hr_y=0.0)\n"
     ]
    }
   ],
   "source": [
    "amm_pool1.execute_swap_from_X(3)\n",
    "# amm_pool1.deposit(\"alice\",x=1, y=2000, rPa=1333**0.5, rPb=3000**0.5)\n",
    "amm_pool1.show()\n"
   ]
  },
  {
   "cell_type": "code",
   "execution_count": 95,
   "metadata": {},
   "outputs": [
    {
     "name": "stdout",
     "output_type": "stream",
     "text": [
      "Gap in liquidity... trying to get in range...\n",
      "no more active ticks (liquidity) in this direction\n",
      "swpd_dX=2.456744840788893 swpd_dY=-3699.127639755833 pool_X=4.447361046489829 pool_Y=3.999217869932181e-05 avg_P=1505.7028, end_P=1332.9373\n",
      "adjusted_dY=300.090170265451  pool_cumul_Y_adj=300.090170265451 total_fee_X=0.00737023452236668  pool_cumul_X_fee=0.00737023452236668\n",
      "\n",
      "GlobalState(L=0.0, rP=36.509413246066714, tick=71954, fg_x=1.5133951791307351e-05, fg_y=0.0, hg_x=0.0, hg_y=0.6162015816539035)\n",
      "real reserves X=4.447361046489829 Y=3.999217869932181e-05\n",
      "cumulative HMM X_adj=0.0 Y_adj=300.090170265451\n",
      "cumulative swap fees_X=0.00737023452236668 fees_Y=0.0\n",
      "---positions---\n",
      "poz '('alice', 71955, 80067)': PositionState(liq=487, fr_x=0.0, fr_y=0.0, hr_x=0.0, hr_y=0.0)\n"
     ]
    }
   ],
   "source": [
    "hmm_pool1.execute_swap_from_X(3, rP_oracle=1500**0.5)\n",
    "# hmm_pool1.deposit(\"alice\",x=1, y=2000, rPa=1333**0.5, rPb=3000**0.5)\n",
    "hmm_pool1.show(ticks=False)\n"
   ]
  },
  {
   "cell_type": "code",
   "execution_count": 96,
   "metadata": {},
   "outputs": [
    {
     "name": "stdout",
     "output_type": "stream",
     "text": [
      "Gap in liquidity... trying to get in range...\n",
      "swpd_dX=-2.4212607624810483 swpd_dY=3955.0 pool_X=2.0261002840087805 pool_Y=3943.1350399921785 avg_P=1633.4465, end_P=1989.7131\n",
      "adjusted_dX=0.0  pool_cumul_X_adj=0.0 total_fee_Y=11.865000000000236  pool_cumul_Y_fee=11.865000000000236\n",
      "\n",
      "GlobalState(L=487.0, rP=44.60619969370532, tick=75961, fg_x=1.5133951791307351e-05, fg_y=0.02436344969199227, hg_x=0.0, hg_y=0.0)\n",
      "real reserves X=2.0261002840087805 Y=3943.1350399921785\n",
      "cumulative HMM X_adj=0.0 Y_adj=0.0\n",
      "cumulative swap fees_X=0.00737023452236668 fees_Y=11.865000000000236\n",
      "---positions---\n",
      "poz '('alice', 71955, 80067)': PositionState(liq=487, fr_x=0.0, fr_y=0.0, hr_x=0.0, hr_y=0.0)\n",
      "\n",
      "x_sent=2.0334704740575367 y_sent=3954.9999605686517\n",
      "including fees_x+adj_x=0.00737023452236668 & fees_y+adj_y=11.865000000000236\n",
      "\n",
      "GlobalState(L=0.0, rP=44.60619969370532, tick=75961, fg_x=1.5133951791307351e-05, fg_y=0.02436344969199227, hg_x=0.0, hg_y=0.0)\n",
      "real reserves X=4.44736105720267e-08 Y=7.942352704048972e-05\n",
      "cumulative HMM X_adj=0.0 Y_adj=0.0\n",
      "cumulative swap fees_X=0.0 fees_Y=0.0\n",
      "---positions---\n"
     ]
    }
   ],
   "source": [
    "amm_pool1.execute_swap_from_Y(3955) # even with oracle price give, no adj as C=0\n",
    "amm_pool1.show(ticks=False)\n",
    "amm_pool1.withdraw('alice', 487, rPa=1333**0.5, rPb=3000**0.5)\n",
    "# amm_pool1.withdraw('bob', 451, rPa=1000**0.5, rPb=1300**0.5)\n",
    "amm_pool1.show(ticks=False)"
   ]
  },
  {
   "cell_type": "code",
   "execution_count": 97,
   "metadata": {},
   "outputs": [
    {
     "name": "stdout",
     "output_type": "stream",
     "text": [
      "Gap in liquidity... trying to get in range...\n",
      "swpd_dX=-2.287445945960118 swpd_dY=3955.0 pool_X=2.0261002840087805 pool_Y=3943.1350399921785 avg_P=1729.0026, end_P=1989.7131\n",
      "adjusted_dX=0.13381481652093008  pool_cumul_X_adj=0.13381481652093008 total_fee_Y=11.865000000000236  pool_cumul_Y_fee=11.865000000000236\n",
      "\n",
      "GlobalState(L=487.0, rP=44.60619969370532, tick=75961, fg_x=1.5133951791307351e-05, fg_y=0.02436344969199227, hg_x=0.0002747737505563246, hg_y=0.6162015816539035)\n",
      "real reserves X=2.0261002840087805 Y=3943.1350399921785\n",
      "cumulative HMM X_adj=0.13381481652093008 Y_adj=300.090170265451\n",
      "cumulative swap fees_X=0.00737023452236668 fees_Y=11.865000000000236\n",
      "---positions---\n",
      "poz '('alice', 71955, 80067)': PositionState(liq=487, fr_x=0.0, fr_y=0.0, hr_x=0.0, hr_y=0.0)\n",
      "\n",
      "x_sent=2.1672852905784667 y_sent=4255.090130834103\n",
      "including fees_x+adj_x=0.14118505104329676 & fees_y+adj_y=311.9551702654512\n",
      "\n",
      "GlobalState(L=0.0, rP=44.60619969370532, tick=75961, fg_x=1.5133951791307351e-05, fg_y=0.02436344969199227, hg_x=0.0002747737505563246, hg_y=0.6162015816539035)\n",
      "real reserves X=4.44736105720267e-08 Y=7.942352704048972e-05\n",
      "cumulative HMM X_adj=0.0 Y_adj=0.0\n",
      "cumulative swap fees_X=0.0 fees_Y=0.0\n",
      "---positions---\n"
     ]
    }
   ],
   "source": [
    "hmm_pool1.execute_swap_from_Y(3955, rP_oracle=1700**0.5)\n",
    "hmm_pool1.show(ticks=False)\n",
    "hmm_pool1.withdraw('alice', 487, rPa=1333**0.5, rPb=3000**0.5)\n",
    "# hmm_pool1.withdraw('bob', 451, rPa=1000**0.5, rPb=1300**0.5)\n",
    "hmm_pool1.show(ticks=False)"
   ]
  }
 ],
 "metadata": {
  "interpreter": {
   "hash": "aee8b7b246df8f9039afb4144a1f6fd8d2ca17a180786b69acc140d282b71a49"
  },
  "kernelspec": {
   "display_name": "Python 3.9.7 64-bit",
   "language": "python",
   "name": "python3"
  },
  "language_info": {
   "codemirror_mode": {
    "name": "ipython",
    "version": 3
   },
   "file_extension": ".py",
   "mimetype": "text/x-python",
   "name": "python",
   "nbconvert_exporter": "python",
   "pygments_lexer": "ipython3",
   "version": "3.9.7"
  },
  "orig_nbformat": 4
 },
 "nbformat": 4,
 "nbformat_minor": 2
}
