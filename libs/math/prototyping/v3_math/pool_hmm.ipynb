{
 "cells": [
  {
   "cell_type": "markdown",
   "metadata": {},
   "source": [
    "-------------\n",
    "-------------\n",
    "-------------\n",
    "## Test HMM"
   ]
  },
  {
   "cell_type": "markdown",
   "metadata": {},
   "source": [
    "To use HMM adjustment, pool needs to be created with 'hmm_C=...\" argument with a value different from 0.\n",
    "Furthermore, at swap time, rP_oracle needs to be provided each time. Any swap where the oracle price is not provided (or set to None), will not have HMM adjustment, even if C is set for the pool and other swaps did have HMM adjustment. "
   ]
  },
  {
   "cell_type": "markdown",
   "metadata": {},
   "source": [
    "-----------\n",
    "-----------\n",
    "1. use setting from \"3.execute_swap_from_X(): breaking up trades\" and compare"
   ]
  },
  {
   "cell_type": "code",
   "execution_count": 76,
   "metadata": {},
   "outputs": [
    {
     "name": "stdout",
     "output_type": "stream",
     "text": [
      "x_dep=1.9979864402233023 y_dep=3999.217850013463 X returned 0.0020135597766977043 Y returned 0.7821499865372061\n"
     ]
    }
   ],
   "source": [
    "# No HMM\n",
    "from v3_pool import *\n",
    "amm_pool1= Pool(\"ETH\", 18, \"USDC\", 6, bootstrap_rP=2000**0.5,tick_spacing=1)\n",
    "amm_pool1.deposit(\"abc\",x=2, y=4000, rPa=1333**0.5, rPb=3000**0.5)"
   ]
  },
  {
   "cell_type": "code",
   "execution_count": 77,
   "metadata": {},
   "outputs": [
    {
     "name": "stdout",
     "output_type": "stream",
     "text": [
      "x_dep=1.9979864402233023 y_dep=3999.217850013463 X returned 0.0020135597766977043 Y returned 0.7821499865372061\n"
     ]
    }
   ],
   "source": [
    "# With HMM\n",
    "hmm_pool1= Pool(\"ETH\", 18, \"USDC\", 6, bootstrap_rP=2000**0.5,tick_spacing=1,hmm_C=1.5)\n",
    "hmm_pool1.deposit(\"abc\",x=2, y=4000, rPa=1333**0.5, rPb=3000**0.5)"
   ]
  },
  {
   "cell_type": "code",
   "execution_count": 78,
   "metadata": {},
   "outputs": [
    {
     "name": "stdout",
     "output_type": "stream",
     "text": [
      "Gap in liquidity... trying to get in range...\n",
      "no more active ticks (liquidity) in this direction\n",
      "swpd_dX=2.4493746062665265 swpd_dY=-3999.217810021284 pool_X=4.447361046489829 pool_Y=3.999217869932181e-05 avg_P=1632.7506, end_P=1332.9373\n",
      "adjusted_dY=0.0  pool_cumul_Y_adj=0.0 total_fee_X=0.0  pool_cumul_X_fee=0.0\n"
     ]
    },
    {
     "data": {
      "text/plain": [
       "(2.4493746062665265,\n",
       " -3999.217810021284,\n",
       " 0.0,\n",
       " 0.0,\n",
       " 1632.7505804092234,\n",
       " 1332.9372555720715)"
      ]
     },
     "execution_count": 78,
     "metadata": {},
     "output_type": "execute_result"
    }
   ],
   "source": [
    "amm_pool1.execute_swap_from_X(3)"
   ]
  },
  {
   "cell_type": "code",
   "execution_count": 79,
   "metadata": {},
   "outputs": [
    {
     "name": "stdout",
     "output_type": "stream",
     "text": [
      "Gap in liquidity... trying to get in range...\n",
      "no more active ticks (liquidity) in this direction\n",
      "swpd_dX=2.4493746062665265 swpd_dY=-3699.127639755833 pool_X=4.447361046489829 pool_Y=3.999217869932181e-05 avg_P=1510.2335, end_P=1332.9373\n",
      "adjusted_dY=300.090170265451  pool_cumul_Y_adj=300.090170265451 total_fee_X=0.0  pool_cumul_X_fee=0.0\n"
     ]
    },
    {
     "data": {
      "text/plain": [
       "(2.4493746062665265,\n",
       " -3699.127639755833,\n",
       " 300.090170265451,\n",
       " 0.0,\n",
       " 1510.2335225865063,\n",
       " 1332.9372555720715)"
      ]
     },
     "execution_count": 79,
     "metadata": {},
     "output_type": "execute_result"
    }
   ],
   "source": [
    "hmm_pool1.execute_swap_from_X(3, rP_oracle=1500**0.5)"
   ]
  },
  {
   "cell_type": "code",
   "execution_count": 80,
   "metadata": {},
   "outputs": [
    {
     "name": "stdout",
     "output_type": "stream",
     "text": [
      "Gap in liquidity... trying to get in range...\n",
      "swpd_dX=-2.427220678596034 swpd_dY=3955.0 pool_X=2.0201403678937946 pool_Y=3955.0000399921787 avg_P=1629.4357, end_P=1991.8872\n",
      "adjusted_dX=0.0  pool_cumul_X_adj=0.0 total_fee_Y=0.0  pool_cumul_Y_fee=0.0\n"
     ]
    },
    {
     "data": {
      "text/plain": [
       "(-2.427220678596034, 3955.0, 0.0, 0.0, 1629.4356895013238, 1991.8871664967744)"
      ]
     },
     "execution_count": 80,
     "metadata": {},
     "output_type": "execute_result"
    }
   ],
   "source": [
    "amm_pool1.execute_swap_from_Y(3955) # even with oracle price give, no adj as C=0"
   ]
  },
  {
   "cell_type": "code",
   "execution_count": 81,
   "metadata": {},
   "outputs": [
    {
     "name": "stdout",
     "output_type": "stream",
     "text": [
      "Gap in liquidity... trying to get in range...\n",
      "swpd_dX=-2.293405862075104 swpd_dY=3955.0 pool_X=2.0201403678937946 pool_Y=3955.0000399921787 avg_P=1724.5094, end_P=1991.8872\n",
      "adjusted_dX=0.13381481652093008  pool_cumul_X_adj=0.13381481652093008 total_fee_Y=0.0  pool_cumul_Y_fee=0.0\n"
     ]
    },
    {
     "data": {
      "text/plain": [
       "(-2.293405862075104,\n",
       " 3955.0,\n",
       " 0.13381481652093008,\n",
       " 0.0,\n",
       " 1724.509414317736,\n",
       " 1991.8871664967744)"
      ]
     },
     "execution_count": 81,
     "metadata": {},
     "output_type": "execute_result"
    }
   ],
   "source": [
    "hmm_pool1.execute_swap_from_Y(3955, rP_oracle=1700**0.5)"
   ]
  },
  {
   "cell_type": "code",
   "execution_count": 82,
   "metadata": {},
   "outputs": [],
   "source": [
    "# amm_pool1.show()"
   ]
  },
  {
   "cell_type": "code",
   "execution_count": 83,
   "metadata": {},
   "outputs": [],
   "source": [
    "# hmm_pool1.show()\n",
    "assert hmm_pool1.X == amm_pool1.X, hmm_pool1.Y == amm_pool1.Y\n",
    "assert hmm_pool1.global_state.rP == amm_pool1.global_state.rP\n",
    "# assert hmm_pool1.X_adj> 0 ,hmm_pool1.Y_adj> 0"
   ]
  },
  {
   "cell_type": "markdown",
   "metadata": {},
   "source": [
    "-------------\n",
    "-------------\n",
    "-------------\n",
    "## Add fees"
   ]
  },
  {
   "cell_type": "code",
   "execution_count": 84,
   "metadata": {},
   "outputs": [
    {
     "name": "stdout",
     "output_type": "stream",
     "text": [
      "x_dep=1.9979864402233023 y_dep=3999.217850013463 X returned 0.0020135597766977043 Y returned 0.7821499865372061\n"
     ]
    }
   ],
   "source": [
    "# No HMM\n",
    "from v3_pool import *\n",
    "amm_pool1= Pool(\"ETH\", 18, \"USDC\", 6, bootstrap_rP=2000**0.5,tick_spacing=1,fee_rate=0.003)\n",
    "amm_pool1.deposit(\"abc\",x=2, y=4000, rPa=1333**0.5, rPb=3000**0.5)"
   ]
  },
  {
   "cell_type": "code",
   "execution_count": 85,
   "metadata": {},
   "outputs": [
    {
     "name": "stdout",
     "output_type": "stream",
     "text": [
      "x_dep=1.9979864402233023 y_dep=3999.217850013463 X returned 0.0020135597766977043 Y returned 0.7821499865372061\n"
     ]
    }
   ],
   "source": [
    "# With HMM\n",
    "hmm_pool1= Pool(\"ETH\", 18, \"USDC\", 6, bootstrap_rP=2000**0.5,tick_spacing=1,fee_rate=0.003,hmm_C=1.5)\n",
    "hmm_pool1.deposit(\"abc\",x=2, y=4000, rPa=1333**0.5, rPb=3000**0.5)"
   ]
  },
  {
   "cell_type": "code",
   "execution_count": 86,
   "metadata": {},
   "outputs": [
    {
     "name": "stdout",
     "output_type": "stream",
     "text": [
      "Gap in liquidity... trying to get in range...\n",
      "no more active ticks (liquidity) in this direction\n",
      "swpd_dX=2.456744840788893 swpd_dY=-3999.217810021284 pool_X=4.447361046489829 pool_Y=3.999217869932181e-05 avg_P=1627.8523, end_P=1332.9373\n",
      "adjusted_dY=0.0  pool_cumul_Y_adj=0.0 total_fee_X=0.00737023452236668  pool_cumul_X_fee=0.00737023452236668\n"
     ]
    },
    {
     "data": {
      "text/plain": [
       "(2.456744840788893,\n",
       " -3999.217810021284,\n",
       " 0.0,\n",
       " 0.00737023452236668,\n",
       " 1627.8523286679956,\n",
       " 1332.9372555720715)"
      ]
     },
     "execution_count": 86,
     "metadata": {},
     "output_type": "execute_result"
    }
   ],
   "source": [
    "amm_pool1.execute_swap_from_X(3)"
   ]
  },
  {
   "cell_type": "code",
   "execution_count": 87,
   "metadata": {},
   "outputs": [
    {
     "name": "stdout",
     "output_type": "stream",
     "text": [
      "Gap in liquidity... trying to get in range...\n",
      "no more active ticks (liquidity) in this direction\n",
      "swpd_dX=2.456744840788893 swpd_dY=-3699.127639755833 pool_X=4.447361046489829 pool_Y=3.999217869932181e-05 avg_P=1505.7028, end_P=1332.9373\n",
      "adjusted_dY=300.090170265451  pool_cumul_Y_adj=300.090170265451 total_fee_X=0.00737023452236668  pool_cumul_X_fee=0.00737023452236668\n"
     ]
    },
    {
     "data": {
      "text/plain": [
       "(2.456744840788893,\n",
       " -3699.127639755833,\n",
       " 300.090170265451,\n",
       " 0.00737023452236668,\n",
       " 1505.7028220187467,\n",
       " 1332.9372555720715)"
      ]
     },
     "execution_count": 87,
     "metadata": {},
     "output_type": "execute_result"
    }
   ],
   "source": [
    "hmm_pool1.execute_swap_from_X(3, rP_oracle=1500**0.5)"
   ]
  },
  {
   "cell_type": "code",
   "execution_count": 88,
   "metadata": {},
   "outputs": [
    {
     "name": "stdout",
     "output_type": "stream",
     "text": [
      "Gap in liquidity... trying to get in range...\n",
      "swpd_dX=-2.4212607624810483 swpd_dY=3955.0 pool_X=2.0261002840087805 pool_Y=3943.1350399921785 avg_P=1633.4465, end_P=1989.7131\n",
      "adjusted_dX=0.0  pool_cumul_X_adj=0.0 total_fee_Y=11.865000000000236  pool_cumul_Y_fee=11.865000000000236\n"
     ]
    },
    {
     "data": {
      "text/plain": [
       "(-2.4212607624810483,\n",
       " 3955.0,\n",
       " 0.0,\n",
       " 11.865000000000236,\n",
       " 1633.4465338410475,\n",
       " 1989.7130511147166)"
      ]
     },
     "execution_count": 88,
     "metadata": {},
     "output_type": "execute_result"
    }
   ],
   "source": [
    "amm_pool1.execute_swap_from_Y(3955) # even with oracle price give, no adj as C=0"
   ]
  },
  {
   "cell_type": "code",
   "execution_count": 89,
   "metadata": {},
   "outputs": [
    {
     "data": {
      "text/plain": [
       "0.003"
      ]
     },
     "execution_count": 89,
     "metadata": {},
     "output_type": "execute_result"
    }
   ],
   "source": [
    "11.86500000000000/3955.0"
   ]
  },
  {
   "cell_type": "code",
   "execution_count": 90,
   "metadata": {},
   "outputs": [
    {
     "name": "stdout",
     "output_type": "stream",
     "text": [
      "Gap in liquidity... trying to get in range...\n",
      "swpd_dX=-2.287445945960118 swpd_dY=3955.0 pool_X=2.0261002840087805 pool_Y=3943.1350399921785 avg_P=1729.0026, end_P=1989.7131\n",
      "adjusted_dX=0.13381481652093008  pool_cumul_X_adj=0.13381481652093008 total_fee_Y=11.865000000000236  pool_cumul_Y_fee=11.865000000000236\n"
     ]
    },
    {
     "data": {
      "text/plain": [
       "(-2.287445945960118,\n",
       " 3955.0,\n",
       " 0.13381481652093008,\n",
       " 11.865000000000236,\n",
       " 1729.0026052790301,\n",
       " 1989.7130511147166)"
      ]
     },
     "execution_count": 90,
     "metadata": {},
     "output_type": "execute_result"
    }
   ],
   "source": [
    "hmm_pool1.execute_swap_from_Y(3955, rP_oracle=1700**0.5)"
   ]
  }
 ],
 "metadata": {
  "interpreter": {
   "hash": "aee8b7b246df8f9039afb4144a1f6fd8d2ca17a180786b69acc140d282b71a49"
  },
  "kernelspec": {
   "display_name": "Python 3.9.7 64-bit",
   "language": "python",
   "name": "python3"
  },
  "language_info": {
   "codemirror_mode": {
    "name": "ipython",
    "version": 3
   },
   "file_extension": ".py",
   "mimetype": "text/x-python",
   "name": "python",
   "nbconvert_exporter": "python",
   "pygments_lexer": "ipython3",
   "version": "3.9.7"
  },
  "orig_nbformat": 4
 },
 "nbformat": 4,
 "nbformat_minor": 2
}
