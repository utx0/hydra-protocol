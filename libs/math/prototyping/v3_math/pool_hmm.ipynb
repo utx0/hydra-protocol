{
 "cells": [
  {
   "cell_type": "markdown",
   "metadata": {},
   "source": [
    "-------------\n",
    "-------------\n",
    "-------------\n",
    "## Test HMM"
   ]
  },
  {
   "cell_type": "markdown",
   "metadata": {},
   "source": [
    "To use HMM adjustment, pool needs to be created with 'hmm_C=...\" argument with a value different from 0.\n",
    "Furthermore, at swap time, rP_oracle needs to be provided each time. Any swap where the oracle price is not provided (or set to None), will not have HMM adjustment, even if C is set for the pool and other swaps did have HMM adjustment. "
   ]
  },
  {
   "cell_type": "markdown",
   "metadata": {},
   "source": [
    "-----------\n",
    "-----------\n",
    "1. use setting from above \"3.execute_swap_from_X(): breaking up trades\" and compare"
   ]
  },
  {
   "cell_type": "code",
   "execution_count": 109,
   "metadata": {},
   "outputs": [
    {
     "name": "stdout",
     "output_type": "stream",
     "text": [
      "x_dep=1.9979864402233023 y_dep=3999.217850013463 X returned 0.0020135597766977043 Y returned 0.7821499865372061\n"
     ]
    }
   ],
   "source": [
    "# No HMM\n",
    "from v3_pool import *\n",
    "amm_pool1= Pool(\"ETH\", 18, \"USDC\", 6, bootstrap_rP=2000**0.5,tick_spacing=1)\n",
    "amm_pool1.deposit(\"abc\",x=2, y=4000, rPa=1333**0.5, rPb=3000**0.5)"
   ]
  },
  {
   "cell_type": "code",
   "execution_count": 110,
   "metadata": {},
   "outputs": [
    {
     "name": "stdout",
     "output_type": "stream",
     "text": [
      "x_dep=1.9979864402233023 y_dep=3999.217850013463 X returned 0.0020135597766977043 Y returned 0.7821499865372061\n"
     ]
    }
   ],
   "source": [
    "# With HMM\n",
    "hmm_pool1= Pool(\"ETH\", 18, \"USDC\", 6, bootstrap_rP=2000**0.5,tick_spacing=1,hmm_C=1.5)\n",
    "hmm_pool1.deposit(\"abc\",x=2, y=4000, rPa=1333**0.5, rPb=3000**0.5)"
   ]
  },
  {
   "cell_type": "code",
   "execution_count": 111,
   "metadata": {},
   "outputs": [
    {
     "name": "stdout",
     "output_type": "stream",
     "text": [
      "Gap in liquidity... trying to get in range...\n",
      "no more active ticks (liquidity) in this direction\n",
      "swapped_dX=2.4493746062665265 swapped_dY=-3999.217810021284 pool_X=4.447361046489829 _Y=3.999217869932181e-05\n",
      "adjusted_dY=0.0  pool_cumul_Y_adj=0.0\n"
     ]
    },
    {
     "data": {
      "text/plain": [
       "(2.4493746062665265, -3999.217810021284, 0.0)"
      ]
     },
     "execution_count": 111,
     "metadata": {},
     "output_type": "execute_result"
    }
   ],
   "source": [
    "amm_pool1.execute_swap_from_X(3)\n",
    "# amm_pool1.show()"
   ]
  },
  {
   "cell_type": "code",
   "execution_count": 112,
   "metadata": {},
   "outputs": [
    {
     "name": "stdout",
     "output_type": "stream",
     "text": [
      "Gap in liquidity... trying to get in range...\n",
      "no more active ticks (liquidity) in this direction\n",
      "swapped_dX=2.4493746062665265 swapped_dY=-3699.127639755833 pool_X=4.447361046489829 _Y=3.999217869932181e-05\n",
      "adjusted_dY=300.090170265451  pool_cumul_Y_adj=300.090170265451\n"
     ]
    },
    {
     "data": {
      "text/plain": [
       "(2.4493746062665265, -3699.127639755833, 300.090170265451)"
      ]
     },
     "execution_count": 112,
     "metadata": {},
     "output_type": "execute_result"
    }
   ],
   "source": [
    "hmm_pool1.execute_swap_from_X(3, rP_oracle=1500**0.5)\n",
    "# hmm_pool1.show()"
   ]
  },
  {
   "cell_type": "code",
   "execution_count": 113,
   "metadata": {},
   "outputs": [
    {
     "name": "stdout",
     "output_type": "stream",
     "text": [
      "Gap in liquidity... trying to get in range...\n",
      "swapped_dX=-2.427220678596034 swapped_dY=3955.0 pool_X=2.0201403678937946 pool_Y=3955.0000399921787\n",
      "adjusted_dX=0.0  pool_cumul_X_adj=0.0\n"
     ]
    },
    {
     "data": {
      "text/plain": [
       "(-2.427220678596034, 3955.0, 0.0)"
      ]
     },
     "execution_count": 113,
     "metadata": {},
     "output_type": "execute_result"
    }
   ],
   "source": [
    "amm_pool1.execute_swap_from_Y(3955) # even with oracle price give, no adj as C=0\n"
   ]
  },
  {
   "cell_type": "code",
   "execution_count": 114,
   "metadata": {},
   "outputs": [
    {
     "name": "stdout",
     "output_type": "stream",
     "text": [
      "Gap in liquidity... trying to get in range...\n",
      "swapped_dX=-2.155698577704541 swapped_dY=3955.0 pool_X=2.0201403678937946 pool_Y=3955.0000399921787\n",
      "adjusted_dX=0.271522100891493  pool_cumul_X_adj=0.271522100891493\n"
     ]
    },
    {
     "data": {
      "text/plain": [
       "(-2.155698577704541, 3955.0, 0.271522100891493)"
      ]
     },
     "execution_count": 114,
     "metadata": {},
     "output_type": "execute_result"
    }
   ],
   "source": [
    "hmm_pool1.execute_swap_from_Y(3955, rP_oracle=1900**0.5)\n"
   ]
  },
  {
   "cell_type": "code",
   "execution_count": 115,
   "metadata": {},
   "outputs": [
    {
     "name": "stdout",
     "output_type": "stream",
     "text": [
      "GlobalState(L=487.0, rP=44.63056314339731, tick=75972, fg_x=0.0, fg_y=0.0, proto_x=0.0, proto_y=0.0)\n",
      "real reserves X=2.0201403678937946 Y=3955.0000399921787\n",
      "cumulative HMM X_adj=0.0 Y_adj=0.0\n",
      "---active ticks---\n",
      "tick '71955': TickState(liq_net=487.0, liq_gross=487.0, f0_x=0.0, f0_y=0.0, s0_x=0.0, s0_y=0.0, i0_x=0.0, i0_y=0.0, sl0_x=0.0, sl0_y=0.0)\n",
      "tick '80067': TickState(liq_net=-487.0, liq_gross=487.0, f0_x=0, f0_y=0, s0_x=0.0, s0_y=0.0, i0_x=0.0, i0_y=0.0, sl0_x=0.0, sl0_y=0.0)\n",
      "---positions---\n",
      "poz '('abc', 71955, 80067)': PositionState(liq=487, fr_x=0.0, fr_y=0.0)\n"
     ]
    }
   ],
   "source": [
    "amm_pool1.show()"
   ]
  },
  {
   "cell_type": "code",
   "execution_count": 116,
   "metadata": {},
   "outputs": [
    {
     "name": "stdout",
     "output_type": "stream",
     "text": [
      "GlobalState(L=487.0, rP=44.63056314339731, tick=75972, fg_x=0.0, fg_y=0.0, proto_x=0.0, proto_y=0.0)\n",
      "real reserves X=2.0201403678937946 Y=3955.0000399921787\n",
      "cumulative HMM X_adj=0.271522100891493 Y_adj=300.090170265451\n",
      "---active ticks---\n",
      "tick '71955': TickState(liq_net=487.0, liq_gross=487.0, f0_x=0.0, f0_y=0.0, s0_x=0.0, s0_y=0.0, i0_x=0.0, i0_y=0.0, sl0_x=0.0, sl0_y=0.0)\n",
      "tick '80067': TickState(liq_net=-487.0, liq_gross=487.0, f0_x=0, f0_y=0, s0_x=0.0, s0_y=0.0, i0_x=0.0, i0_y=0.0, sl0_x=0.0, sl0_y=0.0)\n",
      "---positions---\n",
      "poz '('abc', 71955, 80067)': PositionState(liq=487, fr_x=0.0, fr_y=0.0)\n"
     ]
    }
   ],
   "source": [
    "hmm_pool1.show()\n",
    "assert hmm_pool1.X == amm_pool1.X, hmm_pool1.Y == amm_pool1.Y\n",
    "assert hmm_pool1.global_state.rP == amm_pool1.global_state.rP\n",
    "assert hmm_pool1.X_adj> 0 ,hmm_pool1.Y_adj> 0"
   ]
  }
 ],
 "metadata": {
  "interpreter": {
   "hash": "aee8b7b246df8f9039afb4144a1f6fd8d2ca17a180786b69acc140d282b71a49"
  },
  "kernelspec": {
   "display_name": "Python 3.9.7 64-bit",
   "language": "python",
   "name": "python3"
  },
  "language_info": {
   "codemirror_mode": {
    "name": "ipython",
    "version": 3
   },
   "file_extension": ".py",
   "mimetype": "text/x-python",
   "name": "python",
   "nbconvert_exporter": "python",
   "pygments_lexer": "ipython3",
   "version": "3.9.7"
  },
  "orig_nbformat": 4
 },
 "nbformat": 4,
 "nbformat_minor": 2
}
