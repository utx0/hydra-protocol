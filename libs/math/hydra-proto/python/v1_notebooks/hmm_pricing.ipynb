{
 "cells": [
  {
   "cell_type": "code",
   "execution_count": 1,
   "metadata": {},
   "outputs": [],
   "source": [
    "import numpy as np\n",
    "import math\n",
    "import pandas as pd"
   ]
  },
  {
   "cell_type": "code",
   "execution_count": 2,
   "metadata": {},
   "outputs": [],
   "source": [
    "def get_deltaY_amm(x0,y0,deltaX):\n",
    "    k=x0 * y0\n",
    "    return k/(x0+deltaX) - k/x0\n",
    "\n",
    "def get_deltaX_amm(x0,y0,deltaY):\n",
    "    k = x0 *y0\n",
    "    return k/(y0+deltaY) - k/y0\n",
    "\n",
    "def integ(k,q0,q_new,qi,c):\n",
    "\n",
    "    if c==1:\n",
    "        return k/(qi**c) * math.log(q0/q_new)\n",
    "    else:\n",
    "        return k/(qi**c)/(c-1) * (q0**(c-1)-q_new**(c-1))\n",
    "\n",
    "def get_deltaY(x0, y0, i, c, deltaX):\n",
    "    k=x0 * y0\n",
    "    xi = (k/i)**0.5\n",
    "    x_new = x0+deltaX\n",
    "\n",
    "    #if selling to amm and oracle price is higher i.e. \n",
    "    # oracle token balance is lower or vice versa\n",
    "    if (deltaX>0 and x0 >= xi) or (deltaX<0 and x0 <= xi):\n",
    "        deltaY = get_deltaY_amm(x0,y0,deltaX)\n",
    "    elif (deltaX> 0 and x_new <= xi) or (deltaX < 0 and x_new >= xi):\n",
    "        deltaY = integ(k,x0,x_new,xi,c)\n",
    "    else:\n",
    "        deltaY = integ(k,x0,xi,xi,c) + k/x_new-k/xi\n",
    "        # or \n",
    "        # deltaY = integ(k,x0,xi,xi,c) + get_deltaY_amm(xi, yi, x_new - xi)\n",
    "    \n",
    "    return deltaY\n",
    "\n",
    "def get_deltaX(x0, y0, i_, c, deltaY): #here i_ is actually 1/i\n",
    "    k=x0 * y0\n",
    "    yi = (k/i_)**0.5\n",
    "    y_new = y0+deltaY\n",
    "    \n",
    "    #if selling to amm and oracle price is higher \n",
    "    # i.e. oracle token balance is lower or vice versa\n",
    "    if (deltaY>0 and y0 >= yi) or (deltaY<0 and y0 <= yi):\n",
    "        deltaX = get_deltaX_amm(x0,y0,deltaY)\n",
    "    elif (deltaY> 0 and y_new <= yi) or (deltaY < 0 and y_new >= yi):\n",
    "        deltaX = integ(k,y0,y_new,yi,c)\n",
    "    else:\n",
    "        deltaX = integ(k,y0,yi,yi,c) + k/y_new-k/yi\n",
    "        # or \n",
    "        # deltaX = integ(k,y0,yi,yi,c) + get_deltaX_amm(xi, yi, y_new - yi)\n",
    "    \n",
    "    return deltaX"
   ]
  },
  {
   "cell_type": "code",
   "execution_count": 3,
   "metadata": {},
   "outputs": [],
   "source": [
    "# x0=37\n",
    "# y0=126\n",
    "# i=3.0\n",
    "# c=1.0\n",
    "# deltaX = 3.0\n",
    "# deltaY=get_deltaY(x0,y0,i,c,deltaX)\n",
    "\n",
    "# print(\"deltaY = \",deltaY, get_deltaY_amm(x0,y0,deltaX))\n",
    "# print(\"deltaX = \",get_deltaX(x0,y0,1/i,c,deltaY), get_deltaX_amm(x0,y0,deltaY))"
   ]
  },
  {
   "cell_type": "code",
   "execution_count": 4,
   "metadata": {},
   "outputs": [
    {
     "name": "stdout",
     "output_type": "stream",
     "text": [
      "deltaY =  -8.34641792401218 -9.900990099009846\n",
      "deltaX =  9.988187440218532 8.41666694385276\n"
     ]
    }
   ],
   "source": [
    "x0=1000\n",
    "y0=1000\n",
    "i=0.5\n",
    "c=0.5\n",
    "deltaX = 10\n",
    "deltaY=get_deltaY(x0,y0,i,c,deltaX)\n",
    "\n",
    "print(\"deltaY = \",deltaY, get_deltaY_amm(x0,y0,deltaX))\n",
    "print(\"deltaX = \",get_deltaX(x0,y0,1/i,c,deltaY), get_deltaX_amm(x0,y0,deltaY))"
   ]
  },
  {
   "cell_type": "code",
   "execution_count": 5,
   "metadata": {},
   "outputs": [
    {
     "name": "stdout",
     "output_type": "stream",
     "text": [
      "Bid ask spread for buying 10btc with $36m liquidity over cpmm price with oracle price 1% lower:\n",
      "      c   bid_ask\n",
      "0   0.0  0.000000\n",
      "1   0.1  0.332512\n",
      "2   0.2  0.653857\n",
      "3   0.3  0.964409\n",
      "4   0.4  1.264530\n",
      "5   0.5  1.554572\n",
      "6   0.6  1.834873\n",
      "7   0.7  2.105759\n",
      "8   0.8  2.367548\n",
      "9   0.9  2.620544\n",
      "10  1.0  2.865044\n",
      "11  1.1  3.101331\n",
      "12  1.2  3.329683\n",
      "13  1.3  3.550366\n",
      "14  1.4  3.763637\n",
      "15  1.5  3.969746\n",
      "16  1.6  4.168932\n",
      "17  1.7  4.361429\n",
      "18  1.8  4.547460\n",
      "19  1.9  4.727244\n"
     ]
    }
   ],
   "source": [
    "c_vals = np.array([i for i in range(0,200,10)]) / 100\n",
    "bid_ask = np.array([get_deltaY(x0,y0,i,c,deltaX) + get_deltaY(x0,y0,i,c,-deltaX) for c in c_vals])\n",
    "df = pd.DataFrame()\n",
    "df['c'] = c_vals\n",
    "df['bid_ask'] = bid_ask - bid_ask[0]\n",
    "# df['bid_ask%'] = bid_ask/(deltaX*oracle_price)\n",
    "print(\"Bid ask spread for buying 10btc with $36m liquidity over cpmm price with oracle price 1% lower:\")\n",
    "print(df)"
   ]
  },
  {
   "cell_type": "code",
   "execution_count": null,
   "metadata": {},
   "outputs": [],
   "source": []
  }
 ],
 "metadata": {
  "interpreter": {
   "hash": "5cf590adf64b12f100e2631293f66eedf21812d31d21d345d3dafaac5b13c0f5"
  },
  "kernelspec": {
   "display_name": "Python 3.9.7 64-bit",
   "language": "python",
   "name": "python3"
  },
  "language_info": {
   "codemirror_mode": {
    "name": "ipython",
    "version": 3
   },
   "file_extension": ".py",
   "mimetype": "text/x-python",
   "name": "python",
   "nbconvert_exporter": "python",
   "pygments_lexer": "ipython3",
   "version": "3.9.7"
  },
  "orig_nbformat": 4
 },
 "nbformat": 4,
 "nbformat_minor": 2
}
